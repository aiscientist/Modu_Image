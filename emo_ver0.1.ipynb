{
 "cells": [
  {
   "cell_type": "markdown",
   "metadata": {},
   "source": [
    "8/7\n",
    "[ 표정인식팀(성별 인식팀 함께 논의) ]\n",
    "\n",
    "<다음시간 할 내용>\n",
    "1.Kadenze source를 이용하여 data를 전처리 해봄.\n",
    "\n",
    "2.전처리한 데이터(얼굴 cropping + 100x100 size)를 구글드라이브에 올려 오픈링크로 공유하기 1)Git의 readme.md 수정\n",
    "\n",
    "2)한승엽님 - Crawling Images / 신성진님 - CK(+) / 추광재 - JAFFE / 전창욱님 - RaFD DB\n",
    "\n",
    "3.하나의 감정을 모델링까지 (가능하다면) - Happy 인지 아닌지 \n",
    "\n",
    "<팀프로젝트 관련 토의내용>\n",
    "\n",
    "1.화면 실시간 캡쳐 및 인식 - 실시간 tracking보다 간헐적으로 capture 하는 방식으로 하자.\n",
    "\n",
    "2.누구인지 인식 - MS face API detect를 이용?\n",
    "\n",
    "3.최종적으로는 얼굴특징인식(화살표 표시  방식의 특징 인식)기법을 이용하여 인식율을 올려보자."
   ]
  },
  {
   "cell_type": "markdown",
   "metadata": {},
   "source": [
    "OS 폴더 불러오기 및 수정하기\n",
    "\n",
    "1. 파일 목록 얻기\n",
    "\n",
    "(1) glob.glob(wildcard) - 유닉스 경로명 패턴 스타일로 파일 목록을 얻을 수 있다.\n",
    "\n",
    "(2) os.listdir(path) - 지정된 디렉토리의 전체 파일 목록을 얻을 수 있다.\n",
    "\n",
    "(3) dircache.listdir(path) - os.listdir(path)와 동일한 파일 목록을 전달한다.\n",
    "\n",
    "path가 변경되지 않았을 때, dircache.listdir()은 다시 디렉토리 구조를 읽지 않고 이미 읽은 정보를 활용\n",
    "\n",
    "dircache.annotate(head, list) - 일반 파일명과 디렉토리명을 구분해주는 함수\n",
    "\n",
    "2. 디렉토리 다루기\n",
    "\n",
    "os.chdir(path) - 작업하고 있는 디렉토리 변경\n",
    "\n",
    "os.getcwd() - 현재 프로세스의 작업 디렉토리 얻기\n",
    "기타 여러 함수가 있다.\n",
    "\n",
    "3. 파일 이름 다루기\n",
    "\n",
    "os.path.abspath(filename) - 파일의 상대 경로를 절대 경로로 바꾸는 함수\n",
    "\n",
    "os.path.exists(filename) - 주어진 경로의 파일이 있는지 확인하는 함수\n",
    "\n",
    "os.curdir() - 현재 디렉토리 얻기\n",
    "\n",
    "os.pardir() - 부모 디렉토리 얻기\n",
    "\n",
    "os.sep() - 디렉토리 분리 문자 얻기\n",
    "\n",
    "4. 경로명 분리하기\n",
    "\n",
    "os.path.basename(filename) - 파일명만 추출\n",
    "\n",
    "os.path.dirname(filename) - 디렉토리 경로 추출\n",
    "\n",
    "os.path.split(filename) - 경로와 파일명을 분리\n",
    "\n",
    "os.path.splitdrive(filename) - 드라이브명과 나머지 분리 (MS Windows의 경우)\n",
    "\n",
    "os.path.splitext(filename) - 확장자와 나머지 분리"
   ]
  },
  {
   "cell_type": "code",
   "execution_count": 5,
   "metadata": {
    "collapsed": false
   },
   "outputs": [
    {
     "data": {
      "text/plain": [
       "True"
      ]
     },
     "execution_count": 5,
     "metadata": {},
     "output_type": "execute_result"
    }
   ],
   "source": [
    "#'/media/ryan/Windows_D/CK_CK+/CK/cohn-kanade'\n",
    "# Goal: 파일 폴더 안에 있는 이미지를 찾아서 로드\n",
    "import os\n",
    "image_folder = '/media/ryan/Windows_D/CK_CK+/CK/cohn-kanade'\n",
    "os.path.exists(image_folder)"
   ]
  }
 ],
 "metadata": {
  "kernelspec": {
   "display_name": "Python 2",
   "language": "python",
   "name": "python2"
  },
  "language_info": {
   "codemirror_mode": {
    "name": "ipython",
    "version": 2
   },
   "file_extension": ".py",
   "mimetype": "text/x-python",
   "name": "python",
   "nbconvert_exporter": "python",
   "pygments_lexer": "ipython2",
   "version": "2.7.11"
  }
 },
 "nbformat": 4,
 "nbformat_minor": 0
}
