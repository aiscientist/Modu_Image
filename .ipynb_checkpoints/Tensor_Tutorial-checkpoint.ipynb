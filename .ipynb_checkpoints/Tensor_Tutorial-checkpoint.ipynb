{
 "cells": [
  {
   "cell_type": "markdown",
   "metadata": {},
   "source": [
    "https://codeonweb.com/entry/5f15bf8e-d704-49e0-909a-db4450433b74"
   ]
  },
  {
   "cell_type": "code",
   "execution_count": 1,
   "metadata": {
    "collapsed": true
   },
   "outputs": [],
   "source": [
    "import tensorflow as tf\n",
    "\n",
    "# 1x2 형렬을 만드는 Constant 연산을 생성합니다.\n",
    "# 이 연산자는 기본 그래프의 노드로 추가됩니다.\n",
    "#\n",
    "# 생성자에 의해 반환된 값(matrix1)은 Constant 연산의 출력을 나타냅니다.\n",
    "matrix1 = tf.constant([[3., 3.]])\n",
    "\n",
    "# 2x1 행렬을 만드는 또 다른 Constant를 생성합니다.\n",
    "matrix2 = tf.constant([[2.],[2.]])\n",
    "\n",
    "# 'matrix1'과 'matrix2'를 입력으로 받는 Matmul 연산을 생성합니다.\n",
    "# 반환값인 'product'는 행렬을 곱한 결과를 나타냅니다.\n",
    "product = tf.matmul(matrix1, matrix2)"
   ]
  },
  {
   "cell_type": "code",
   "execution_count": 2,
   "metadata": {
    "collapsed": false,
    "scrolled": true
   },
   "outputs": [
    {
     "name": "stdout",
     "output_type": "stream",
     "text": [
      "[[ 12.]]\n"
     ]
    }
   ],
   "source": [
    "import tensorflow as tf\n",
    "# 기본 그래프로 세션을 생성.\n",
    "sess = tf.Session()\n",
    "\n",
    "# matmul 연산을 실행하려면 matmul 연산의 출력을 나타내는 'product'를\n",
    "# 인자로 넘겨주면서 세션의 'run()' 메소드를 호출합니다. 이렇게 호출하면\n",
    "# matmul 연산의 출력을 다시 얻고 싶다는 뜻입니다.\n",
    "#\n",
    "# 연산이 필요로 하는 모든 입력은 세션에 의해 자동으로 실행됩니다.\n",
    "# 일반적으로 병렬적으로 실행되지요.\n",
    "#\n",
    "# 따라서 'run(product)' 호출은 그래프 내의 세 개 연산을 실행하게 됩니다.\n",
    "# 두 개의 상수와 matmul이 바로 그 연산이지요.\n",
    "#\n",
    "# 연산의 출력은 'result'에 numpy의 `ndarray` 객체 형태로 저장됩니다. \n",
    "result = sess.run(product)\n",
    "print(result)\n",
    "# ==> [[ 12.]]\n",
    "\n",
    "# 다 끝났으면 세션을 닫아줍니다.\n",
    "sess.close()"
   ]
  },
  {
   "cell_type": "code",
   "execution_count": 3,
   "metadata": {
    "collapsed": false
   },
   "outputs": [
    {
     "name": "stdout",
     "output_type": "stream",
     "text": [
      "[array([[ 12.]], dtype=float32)]\n"
     ]
    }
   ],
   "source": [
    "with tf.Session() as sess:\n",
    "  result = sess.run([product])\n",
    "  print(result)"
   ]
  },
  {
   "cell_type": "code",
   "execution_count": 4,
   "metadata": {
    "collapsed": true
   },
   "outputs": [],
   "source": [
    "with tf.Session() as sess:\n",
    "  with tf.device(\"/gpu:1\"):\n",
    "    matrix1 = tf.constant([[3., 3.]])\n",
    "    matrix2 = tf.constant([[2.],[2.]])\n",
    "    product = tf.matmul(matrix1, matrix2)"
   ]
  },
  {
   "cell_type": "markdown",
   "metadata": {},
   "source": [
    "대화형으로 사용(Interactive Usage)\n",
    "\n",
    "이 문서에서 본 파이썬 예제에서는 그래프를 Session에 올린 뒤 Session.run() 메소드를 이용해 연산을 실행했습니다.\n",
    "\n",
    "IPython과 같은 대화형 파이썬 환경에서 보다 쉽게 사용하려면,InteractiveSession 클래스를 통해 Tensor.eval()과 Operation.run() 메소드를 호출할 수도 있습니다. 그러면 세션을 위해 변수를 미리 생성할 필요가 없습니다."
   ]
  },
  {
   "cell_type": "code",
   "execution_count": null,
   "metadata": {
    "collapsed": true
   },
   "outputs": [],
   "source": [
    "# 대화형 TensorFlow 세션에 들어갑니다.\n",
    "import tensorflow as tf\n",
    "sess = tf.InteractiveSession()\n",
    "\n",
    "x = tf.Variable([1.0, 2.0])\n",
    "a = tf.constant([3.0, 3.0])\n",
    "\n",
    "# 'x'의 초기화 연산의 run() 메소드를 사용해서 'x'를 초기화합니다.\n",
    "x.initializer.run()\n",
    "\n",
    "# 'x'에서 'a'를 빼기 위해 연산을 추가. 실행하고 결과를 출력합니다.\n",
    "sub = tf.sub(x, a)\n",
    "print(sub.eval())\n",
    "# ==> [-2. -1.]\n",
    "\n",
    "# 다 끝났으면 세션을 닫아줍니다.\n",
    "sess.close()"
   ]
  },
  {
   "cell_type": "markdown",
   "metadata": {},
   "source": [
    "텐서\n",
    "\n",
    "TensorFlow 프로그램은 텐서(tensor) 데이터 구조를 사용해서 모든 데이터를 나타냅니다. 계산 그래프에서 연산을 할 때에도 오직 텐서만 주고 받습니다. TensorFlow의 텐서는 n 차원의 배열이나 리스트라고 생각하면 됩니다. 텐서는 정적 타입(static type), 랭크(rank), 모양(shape)의 속성을 가집니다. TensorFlow가 어떻게 이 개념들을 다루는지 알고 싶다면 Rank, Shape, and Type 문서를 참고하십시오.\n",
    "\n",
    "변수\n",
    "\n",
    "변수는 그래프가 실행되는 동안 어떤 상태를 담고 있습니다. 다음 예제는 간단한 계수 역할을 하는 변수를 보여주고 있습니다. 더 자세한 사항은 Variables를 참고하세요."
   ]
  },
  {
   "cell_type": "code",
   "execution_count": 5,
   "metadata": {
    "collapsed": false,
    "scrolled": true
   },
   "outputs": [
    {
     "name": "stdout",
     "output_type": "stream",
     "text": [
      "0\n",
      "1\n",
      "2\n",
      "3\n"
     ]
    }
   ],
   "source": [
    "import tensorflow as tf\n",
    "# 변수를 하나 생성하고 스칼라 값인 0으로 초기화합니다.\n",
    "state = tf.Variable(0, name=\"counter\")\n",
    "\n",
    "# one을 state에 더하는 연산을 생성합니다.\n",
    "one = tf.constant(1)\n",
    "new_value = tf.add(state, one)\n",
    "update = tf.assign(state, new_value)\n",
    "\n",
    "# 변수는 그래프가 올라간 뒤 'init' 연산을 실행해서 반드시 초기화 되어야 합니다.\n",
    "# 그 전에 먼저 'init' 연산을 그래프에 추가해야 합니다.\n",
    "init_op = tf.initialize_all_variables()\n",
    "\n",
    "# 그래프를 올리고 연산을 실행합니다.\n",
    "with tf.Session() as sess:\n",
    "  # 'init' 연산을 실행합니다.\n",
    "  sess.run(init_op)\n",
    "  # 'state'의 초기값을 출력합니다.\n",
    "  print(sess.run(state))\n",
    "  # 'state'를 갱신하는 연산을 실행하고 'state'를 출력합니다.\n",
    "  for _ in range(3):\n",
    "    sess.run(update)\n",
    "    print(sess.run(state))\n"
   ]
  },
  {
   "cell_type": "markdown",
   "metadata": {},
   "source": [
    "이 코드에 등장한 assign() 연산은 add() 연산과 마찬가지로 표현 그래프(expression graph)의 일종입니다. 그래서 run()으로 그 표현을 실행하기 전에는 실제 대입 연산을 수행하지 않습니다.\n",
    "\n",
    "일반적으로 통계 모델의 파라미터를 변수로 나타냅니다. 예를 들어, 신경망의 가중치(weight)를 텐서 변수에 저장할 수 있습니다. 훈련 과정이 진행되면 훈련 그래프를 반복적으로 실행해서 이 텐서를 갱신하게 됩니다.\n",
    "\n"
   ]
  },
  {
   "cell_type": "markdown",
   "metadata": {},
   "source": [
    "가져오기(Fetches)\n",
    "\n",
    "연산의 출력을 가져오기 위해서는 Session 객체에서 가져오고 싶은 텐서를 run()에 인자로 넘겨서 그래프를 실행해야 합니다. 이전 예제에서 우리는 state라는 한 개의 노드를 가져왔지요. 하지만 여러 개의 텐서를 가져올 수도 있습니다:"
   ]
  },
  {
   "cell_type": "code",
   "execution_count": 11,
   "metadata": {
    "collapsed": false
   },
   "outputs": [
    {
     "name": "stdout",
     "output_type": "stream",
     "text": [
      "[21.0, 7.0]\n"
     ]
    }
   ],
   "source": [
    "import tensorflow as tf\n",
    "\n",
    "input1 = tf.constant(3.0)\n",
    "input2 = tf.constant(2.0)\n",
    "input3 = tf.constant(5.0)\n",
    "intermed = tf.add(input2, input3)\n",
    "mul = tf.mul(input1, intermed)\n",
    "\n",
    "with tf.Session() as sess:\n",
    "  result = sess.run([mul, intermed])\n",
    "  print(result)\n",
    "    \n",
    "#요청된 텐서들의 출력값을 만드는 데 관여하는 모든 연산은 \n",
    "#(요청된 텐서 하나 당 한 번이 아니라) 한 번만 실행됩니다."
   ]
  },
  {
   "cell_type": "markdown",
   "metadata": {},
   "source": [
    "피드(Feeds)\n",
    "\n",
    "지금까지 본 예제에서는 텐서의 값을 Conatants와 Variables에 미리 저장한 뒤 계산 그래프에 넘겨줍니다. TensorFlow는 그래프 내에서 직접 텐서의 값을 할당할 수 있는 방법도 제공하고 있습니다.\n",
    "\n",
    "피드(feed)는 연산의 출력을 지정한 텐서 값으로 임시 대체합니다. 임시로 사용할 피드 데이터는 run()의 인자로 넘겨줄 수 있습니다. 피드 데이터는 run을 호출할 때 명시적 인자로 넘겨질 때만 사용됩니다. 가장 흔한 사용법은 tf.placeholder()를 사용해 특정 연산을 \"피드\" 연산으로 지정하는 것입니다."
   ]
  },
  {
   "cell_type": "code",
   "execution_count": 12,
   "metadata": {
    "collapsed": false
   },
   "outputs": [
    {
     "name": "stdout",
     "output_type": "stream",
     "text": [
      "[array([ 14.], dtype=float32)]\n"
     ]
    }
   ],
   "source": [
    "import tensorflow as tf\n",
    "\n",
    "input1 = tf.placeholder(tf.float32)\n",
    "input2 = tf.placeholder(tf.float32)\n",
    "output = tf.mul(input1, input2)\n",
    "\n",
    "with tf.Session() as sess:\n",
    "  print(sess.run([output], feed_dict={input1:[7.], input2:[2.]}))\n",
    "\n",
    "# output:\n",
    "# [array([ 14.], dtype=float32)]"
   ]
  }
 ],
 "metadata": {
  "kernelspec": {
   "display_name": "Python 2",
   "language": "python",
   "name": "python2"
  },
  "language_info": {
   "codemirror_mode": {
    "name": "ipython",
    "version": 2
   },
   "file_extension": ".py",
   "mimetype": "text/x-python",
   "name": "python",
   "nbconvert_exporter": "python",
   "pygments_lexer": "ipython2",
   "version": "2.7.11"
  }
 },
 "nbformat": 4,
 "nbformat_minor": 0
}
