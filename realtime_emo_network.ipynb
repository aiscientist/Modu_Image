{
 "cells": [
  {
   "cell_type": "code",
   "execution_count": 5,
   "metadata": {
    "collapsed": true
   },
   "outputs": [],
   "source": [
    "import tensorflow as tf\n",
    "import numpy as np\n",
    "\n",
    "#sess = tf.InteractiveSession()"
   ]
  },
  {
   "cell_type": "code",
   "execution_count": 3,
   "metadata": {
    "collapsed": false
   },
   "outputs": [
    {
     "data": {
      "text/plain": [
       "150528"
      ]
     },
     "execution_count": 3,
     "metadata": {},
     "output_type": "execute_result"
    }
   ],
   "source": [
    "num_puntos = 224 * 224 * 3\n",
    "num_puntos"
   ]
  },
  {
   "cell_type": "code",
   "execution_count": 6,
   "metadata": {
    "collapsed": false
   },
   "outputs": [],
   "source": [
    "conjunto_puntos = []\n",
    "for i in xrange(num_puntos):\n",
    "   if np.random.random() > 0.5:\n",
    "     conjunto_puntos.append([np.random.normal(0.0, 0.9), np.random.normal(0.0, 0.9)])\n",
    "   else:\n",
    "     conjunto_puntos.append([np.random.normal(3.0, 0.5), np.random.normal(1.0, 0.5)])"
   ]
  },
  {
   "cell_type": "markdown",
   "metadata": {},
   "source": [
    "## Real time Recognition Layer"
   ]
  },
  {
   "cell_type": "code",
   "execution_count": null,
   "metadata": {
    "collapsed": true
   },
   "outputs": [],
   "source": [
    "x = tf.placeholder(tf.float32, shape=[None, 150528])\n",
    "y_ = tf.placeholder(tf.float32, shape=[None, 6])\n",
    "\n",
    "W = tf.Variable(tf.zeros([150528,6]))\n",
    "b = tf.Variable(tf.zeros([6]))\n",
    "\n",
    "#sess.run(tf.initialize_all_variables())\n",
    "y = tf.nn.softmax(tf.matmul(x,W) + b)\n",
    "\n",
    "\n",
    "# conv1\n",
    "with tf.variable_scope('conv1') as scope:\n",
    "    kernel = _variable_with_weight_decay('weights',\n",
    "                                         shape=[7, 7, 96],\n",
    "                                         stddev=5e-2,\n",
    "                                         wd=0.0)\n",
    "    conv = tf.nn.conv2d(images, kernel, [1, 1, 1, 1], padding='SAME')\n",
    "    biases = _variable_on_cpu('biases', [96], tf.constant_initializer(0.0))\n",
    "    bias = tf.nn.bias_add(conv, biases)\n",
    "    conv1 = tf.nn.relu(bias, name=scope.name)\n",
    "    _activation_summary(conv1)\n",
    "\n",
    "# pool1\n",
    "pool1 = tf.nn.max_pool(conv1, ksize=[1, 3, 3, 1], strides=[1, 1, 1, 1],\n",
    "                         padding='SAME', name='pool1')\n",
    "# norm1\n",
    "norm1 = tf.nn.relu(pool1, 4, bias=1.0, alpha=0.001 / 9.0, beta=0.75,\n",
    "                    name='norm1')\n",
    "\n",
    "# conv2\n",
    "with tf.variable_scope('conv2') as scope:\n",
    "    kernel = _variable_with_weight_decay('weights',\n",
    "                                         shape=[5, 5, 96, 256],\n",
    "                                         stddev=5e-2,\n",
    "                                         wd=0.0)\n",
    "    conv = tf.nn.conv2d(norm1, kernel, [1, 1, 1, 1], padding='SAME')\n",
    "    biases = _variable_on_cpu('biases', [256], tf.constant_initializer(0.1))\n",
    "    bias = tf.nn.bias_add(conv, biases)\n",
    "    conv2 = tf.nn.relu(bias, name=scope.name)\n",
    "    _activation_summary(conv2)\n",
    "\n",
    "# norm2\n",
    "norm2 = tf.nn.relu(conv2, 4, bias=1.0, alpha=0.001 / 9.0, beta=0.75,\n",
    "                    name='norm2')\n",
    "# pool2\n",
    "pool2 = tf.nn.max_pool(norm2, ksize=[1, 2, 2, 1],\n",
    "                         strides=[1, 1, 1, 1], padding='SAME', name='pool2')\n",
    "\n",
    "\n",
    "# conv3\n",
    "with tf.variable_scope('conv3') as scope:\n",
    "    kernel = _variable_with_weight_decay('weights',\n",
    "                                         shape=[3, 3, 256, 512],\n",
    "                                         stddev=5e-2,\n",
    "                                         wd=0.0)\n",
    "    conv = tf.nn.conv2d(norm1, kernel, [1, 1, 1, 1], padding='SAME')\n",
    "    biases = _variable_on_cpu('biases', [512], tf.constant_initializer(0.1))\n",
    "    bias = tf.nn.bias_add(conv, biases)\n",
    "    conv2 = tf.nn.relu(bias, name=scope.name)\n",
    "    _activation_summary(conv3)\n",
    "    \n",
    "# norm3\n",
    "norm3 = tf.nn.relu(conv3, 4, bias=1.0, alpha=0.001 / 9.0, beta=0.75,\n",
    "                    name='norm3')\n",
    "\n",
    "# conv4\n",
    "with tf.variable_scope('conv4') as scope:\n",
    "    kernel = _variable_with_weight_decay('weights',\n",
    "                                         shape=[3, 3, 512, 512],\n",
    "                                         stddev=5e-2,\n",
    "                                         wd=0.0)\n",
    "    conv = tf.nn.conv2d(norm1, kernel, [1, 1, 1, 1], padding='SAME')\n",
    "    biases = _variable_on_cpu('biases', [512], tf.constant_initializer(0.1))\n",
    "    bias = tf.nn.bias_add(conv, biases)\n",
    "    conv2 = tf.nn.relu(bias, name=scope.name)\n",
    "    _activation_summary(conv4)\n",
    "    \n",
    "# norm4\n",
    "norm4 = tf.nn.relu(conv4, 4, bias=1.0, alpha=0.001 / 9.0, beta=0.75,\n",
    "                    name='norm4')    \n",
    "\n",
    "# conv5\n",
    "with tf.variable_scope('conv5') as scope:\n",
    "    kernel = _variable_with_weight_decay('weights',\n",
    "                                         shape=[3, 3, 512, 512],\n",
    "                                         stddev=5e-2,\n",
    "                                         wd=0.0)\n",
    "    conv = tf.nn.conv2d(norm1, kernel, [1, 1, 1, 1], padding='SAME')\n",
    "    biases = _variable_on_cpu('biases', [512], tf.constant_initializer(0.1))\n",
    "    bias = tf.nn.bias_add(conv, biases)\n",
    "    conv2 = tf.nn.relu(bias, name=scope.name)\n",
    "    _activation_summary(conv5)\n",
    "\n",
    "# pool5\n",
    "pool5 = tf.nn.max_pool(norm2, ksize=[1, 3, 3, 1],\n",
    "                         strides=[1, 1, 1, 1], padding='SAME', name='pool5')\n",
    "\n",
    "\n",
    "#Flatten\n",
    "h_pool5_flat = tf.reshape(pool5, [-1, 12801])\n",
    "\n",
    "# fully connected layer 6\n",
    "W_fc6 = weight_variable([12801, 4048])\n",
    "b_fc6 = bias_variable([4048])\n",
    "\n",
    "#Relu 6\n",
    "h_fc6 = tf.nn.relu(tf.matmul(h_pool5_flat, W_fc6) + b_fc6)\n",
    "\n",
    "# Dropout 6\n",
    "keep_prob = tf.placeholder(tf.float32)\n",
    "h_fc6_drop = tf.nn.dropout(h_fc6, keep_prob)\n",
    "\n",
    "#fully connected layer 7\n",
    "W_fc7 = weight_variable([4049, 4048])\n",
    "b_fc7 = bias_variable([4048])\n",
    "\n",
    "#Flatten7\n",
    "#h_pool5_flat = tf.reshape(pool5, [-1, 12801])\n",
    "\n",
    "#Relu 7\n",
    "h_fc7 = tf.nn.relu(tf.matmul(h_pool5_flat, W_fc7) + b_fc7)\n",
    "\n",
    "# Dropout 7\n",
    "keep_prob = tf.placeholder(tf.float32)\n",
    "h_fc7_drop = tf.nn.dropout(h_fc7, keep_prob)\n",
    "\n",
    "\n",
    "#fully connected layer 8\n",
    "W_fc8 = weight_variable([4049, 6])\n",
    "b_fc8 = bias_variable([6])\n",
    "\n",
    "y_conv=tf.nn.softmax(tf.matmul(h_fc7_drop, W_fc8) + b_fc8)\n",
    "\n",
    "# Train and Evaluate the Model\n",
    "\n",
    "cross_entropy = -tf.reduce_sum(y_*tf.log(y_conv))\n",
    "train_step = tf.train.AdamOptimizer(1e-4).minimize(cross_entropy)\n",
    "correct_prediction = tf.equal(tf.argmax(y_conv,1), tf.argmax(y_,1))\n",
    "accuracy = tf.reduce_mean(tf.cast(correct_prediction, tf.float32))\n",
    "sess.run(tf.initialize_all_variables())\n",
    "\n",
    "for i in range(20000):\n",
    "  #batch = mnist.train.next_batch(50)\n",
    "  if i%100 == 0:\n",
    "    train_accuracy = accuracy.eval(feed_dict={\n",
    "        x:batch[0], y_: batch[1], keep_prob: 1.0})\n",
    "    print(\"step %d, training accuracy %g\"%(i, train_accuracy))\n",
    "  train_step.run(feed_dict={x: batch[0], y_: batch[1], keep_prob: 0.5})\n",
    "\n",
    "print(\"test accuracy %g\"%accuracy.eval(feed_dict={\n",
    "    x: mnist.test.images, y_: mnist.test.labels, keep_prob: 1.0}))"
   ]
  }
 ],
 "metadata": {
  "kernelspec": {
   "display_name": "Python 2",
   "language": "python",
   "name": "python2"
  },
  "language_info": {
   "codemirror_mode": {
    "name": "ipython",
    "version": 2
   },
   "file_extension": ".py",
   "mimetype": "text/x-python",
   "name": "python",
   "nbconvert_exporter": "python",
   "pygments_lexer": "ipython2",
   "version": "2.7.12"
  }
 },
 "nbformat": 4,
 "nbformat_minor": 0
}
