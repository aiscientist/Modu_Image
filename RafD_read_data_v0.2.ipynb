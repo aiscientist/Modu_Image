{
 "cells": [
  {
   "cell_type": "code",
   "execution_count": 5,
   "metadata": {
    "collapsed": false
   },
   "outputs": [],
   "source": [
    "# -*- coding: utf-8 -*-\n",
    "import cv2\n",
    "import sys\n",
    "from constants import *\n",
    "from emotion_recognition import EmotionRecognition\n",
    "from os.path import join\n",
    "import os\n",
    "import numpy as np\n",
    "import matplotlib.pyplot as plt\n",
    "import tensorflow as tf\n",
    "\n",
    "import pandas\n",
    "from pandas import DataFrame\n",
    "from skimage.transform import resize"
   ]
  },
  {
   "cell_type": "code",
   "execution_count": 6,
   "metadata": {
    "collapsed": false
   },
   "outputs": [
    {
     "data": {
      "text/html": [
       "<style> .rendered_html code { \n",
       "    padding: 2px 4px;\n",
       "    color: #c7254e;\n",
       "    background-color: #f9f2f4;\n",
       "    border-radius: 4px;\n",
       "} </style>"
      ],
      "text/plain": [
       "<IPython.core.display.HTML object>"
      ]
     },
     "execution_count": 6,
     "metadata": {},
     "output_type": "execute_result"
    }
   ],
   "source": [
    "%matplotlib inline\n",
    "from IPython.core.display import HTML\n",
    "HTML(\"\"\"<style> .rendered_html code { \n",
    "    padding: 2px 4px;\n",
    "    color: #c7254e;\n",
    "    background-color: #f9f2f4;\n",
    "    border-radius: 4px;\n",
    "} </style>\"\"\")"
   ]
  },
  {
   "cell_type": "code",
   "execution_count": 7,
   "metadata": {
    "collapsed": false
   },
   "outputs": [],
   "source": [
    "#Load file in folder\n",
    "dirname = 'RafD'\n",
    "\n",
    "#Load every image file in the provided directory\n",
    "filenames = [os.path.join(dirname, fname)\n",
    "             for fname in os.listdir(dirname)]"
   ]
  },
  {
   "cell_type": "code",
   "execution_count": 49,
   "metadata": {
    "collapsed": true
   },
   "outputs": [],
   "source": [
    "#Find Happy face only\n",
    "\n",
    "import glob\n",
    "happy = glob.glob('RafD/*happy*')\n",
    "sad = glob.glob('RafD/*sad*')\n",
    "\n",
    "#Make sure we have exactly 10 image files for test (you can include more)\n",
    "happy = happy[:16]\n",
    "sad = sad[:16]\n",
    "assert(len(happy) == 16)\n",
    "assert(len(sad) == 16)"
   ]
  },
  {
   "cell_type": "code",
   "execution_count": 51,
   "metadata": {
    "collapsed": true
   },
   "outputs": [],
   "source": [
    "# Read every filename as an RGB image\n",
    "imgs_happy = [plt.imread(fname)[..., :3] for fname in happy]\n",
    "imgs_sad = [plt.imread(fname)[..., :3] for fname in sad]"
   ]
  },
  {
   "cell_type": "code",
   "execution_count": 52,
   "metadata": {
    "collapsed": true
   },
   "outputs": [],
   "source": [
    "def imcrop_tosquare(img):\n",
    "    \"\"\"Make any image a square image.\n",
    "    Parameters\n",
    "    ----------\n",
    "    img : np.ndarray\n",
    "        Input image to crop, assumed at least 2d.\n",
    "    Returns\n",
    "    -------\n",
    "    crop : np.ndarray\n",
    "        Cropped image.\n",
    "    \"\"\"\n",
    "    size = np.min(img.shape[:2])\n",
    "    extra = img.shape[:2] - size\n",
    "    crop = img\n",
    "    for i in np.flatnonzero(extra):\n",
    "        crop = np.take(crop, extra[i] // 2 + np.r_[:size], axis=i)\n",
    "    return crop\n",
    "\n",
    "def montage(images, saveto='montage.png'):\n",
    "    \"\"\"Draw all images as a montage separated by 1 pixel borders.\n",
    "    Also saves the file to the destination specified by `saveto`.\n",
    "    Parameters\n",
    "    ----------\n",
    "    images : numpy.ndarray\n",
    "        Input array to create montage of.  Array should be:\n",
    "        batch x height x width x channels.\n",
    "    saveto : str\n",
    "        Location to save the resulting montage image.\n",
    "    Returns\n",
    "    -------\n",
    "    m : numpy.ndarray\n",
    "        Montage image.\n",
    "    \"\"\"\n",
    "    if isinstance(images, list):\n",
    "        images = np.array(images)\n",
    "    img_h = images.shape[1]\n",
    "    img_w = images.shape[2]\n",
    "    n_plots = int(np.ceil(np.sqrt(images.shape[0])))\n",
    "    if len(images.shape) == 4 and images.shape[3] == 3:\n",
    "        m = np.ones(\n",
    "            (images.shape[1] * n_plots + n_plots + 1,\n",
    "             images.shape[2] * n_plots + n_plots + 1, 3)) * 0.5\n",
    "    else:\n",
    "        m = np.ones(\n",
    "            (images.shape[1] * n_plots + n_plots + 1,\n",
    "             images.shape[2] * n_plots + n_plots + 1)) * 0.5\n",
    "    for i in range(n_plots):\n",
    "        for j in range(n_plots):\n",
    "            this_filter = i * n_plots + j\n",
    "            if this_filter < images.shape[0]:\n",
    "                this_img = images[this_filter]\n",
    "                m[1 + i + i * img_h:1 + i + (i + 1) * img_h,\n",
    "                  1 + j + j * img_w:1 + j + (j + 1) * img_w] = this_img\n",
    "    plt.imsave(arr=m, fname=saveto)\n",
    "    return m"
   ]
  },
  {
   "cell_type": "code",
   "execution_count": 56,
   "metadata": {
    "collapsed": false
   },
   "outputs": [],
   "source": [
    "#Cropping, resize and convert to 4d array\n",
    "\n",
    "def img_preprocessing( img_name ):\n",
    "    # Crop every image to a square\n",
    "    imgs = [imcrop_tosquare(img_i) for img_i in img_name]\n",
    "\n",
    "    # Then resize the square image to 48 x 48 pixels\n",
    "    imgs = [resize(img_i, (48, 48)) for img_i in imgs]\n",
    "\n",
    "    # Make list of 3d imgaes a 4d array with the first dimension the number of images:\n",
    "    imgs = np.array(imgs).astype(np.float32)\n",
    "    return imgs\n",
    "\n",
    "happy_pre = img_preprocessing(imgs_happy)\n",
    "sad_pre = img_preprocessing(imgs_sad)"
   ]
  },
  {
   "cell_type": "code",
   "execution_count": 59,
   "metadata": {
    "collapsed": false
   },
   "outputs": [
    {
     "data": {
      "text/plain": [
       "(16, 48, 48, 3)"
      ]
     },
     "execution_count": 59,
     "metadata": {},
     "output_type": "execute_result"
    }
   ],
   "source": [
    "#TODO\n",
    "\n",
    "happy_label\n",
    "sad_label"
   ]
  },
  {
   "cell_type": "code",
   "execution_count": 12,
   "metadata": {
    "collapsed": true
   },
   "outputs": [
    {
     "ename": "RuntimeError",
     "evalue": "Could not create write struct",
     "output_type": "error",
     "traceback": [
      "\u001b[1;31m---------------------------------------------------------------------------\u001b[0m",
      "\u001b[1;31mRuntimeError\u001b[0m                              Traceback (most recent call last)",
      "\u001b[1;32m<ipython-input-12-a5c2e4133738>\u001b[0m in \u001b[0;36m<module>\u001b[1;34m()\u001b[0m\n\u001b[0;32m      3\u001b[0m \u001b[1;33m\u001b[0m\u001b[0m\n\u001b[0;32m      4\u001b[0m \u001b[0mplt\u001b[0m\u001b[1;33m.\u001b[0m\u001b[0mfigure\u001b[0m\u001b[1;33m(\u001b[0m\u001b[0mfigsize\u001b[0m\u001b[1;33m=\u001b[0m\u001b[1;33m(\u001b[0m\u001b[1;36m10\u001b[0m\u001b[1;33m,\u001b[0m \u001b[1;36m10\u001b[0m\u001b[1;33m)\u001b[0m\u001b[1;33m)\u001b[0m\u001b[1;33m\u001b[0m\u001b[0m\n\u001b[1;32m----> 5\u001b[1;33m \u001b[0mplt\u001b[0m\u001b[1;33m.\u001b[0m\u001b[0mimshow\u001b[0m\u001b[1;33m(\u001b[0m\u001b[0mmontage\u001b[0m\u001b[1;33m(\u001b[0m\u001b[0mimgs\u001b[0m\u001b[1;33m,\u001b[0m \u001b[0msaveto\u001b[0m\u001b[1;33m=\u001b[0m\u001b[1;34m'dataset.png'\u001b[0m\u001b[1;33m)\u001b[0m\u001b[1;33m)\u001b[0m\u001b[1;33m\u001b[0m\u001b[0m\n\u001b[0m",
      "\u001b[1;32m<ipython-input-10-845b38971093>\u001b[0m in \u001b[0;36mmontage\u001b[1;34m(images, saveto)\u001b[0m\n\u001b[0;32m     52\u001b[0m                 m[1 + i + i * img_h:1 + i + (i + 1) * img_h,\n\u001b[0;32m     53\u001b[0m                   1 + j + j * img_w:1 + j + (j + 1) * img_w] = this_img\n\u001b[1;32m---> 54\u001b[1;33m     \u001b[0mplt\u001b[0m\u001b[1;33m.\u001b[0m\u001b[0mimsave\u001b[0m\u001b[1;33m(\u001b[0m\u001b[0marr\u001b[0m\u001b[1;33m=\u001b[0m\u001b[0mm\u001b[0m\u001b[1;33m,\u001b[0m \u001b[0mfname\u001b[0m\u001b[1;33m=\u001b[0m\u001b[0msaveto\u001b[0m\u001b[1;33m)\u001b[0m\u001b[1;33m\u001b[0m\u001b[0m\n\u001b[0m\u001b[0;32m     55\u001b[0m     \u001b[1;32mreturn\u001b[0m \u001b[0mm\u001b[0m\u001b[1;33m\u001b[0m\u001b[0m\n",
      "\u001b[1;32m/home/ryan/anaconda2/lib/python2.7/site-packages/matplotlib/pyplot.pyc\u001b[0m in \u001b[0;36mimsave\u001b[1;34m(*args, **kwargs)\u001b[0m\n\u001b[0;32m   2293\u001b[0m \u001b[1;33m@\u001b[0m\u001b[0mdocstring\u001b[0m\u001b[1;33m.\u001b[0m\u001b[0mcopy_dedent\u001b[0m\u001b[1;33m(\u001b[0m\u001b[0m_imsave\u001b[0m\u001b[1;33m)\u001b[0m\u001b[1;33m\u001b[0m\u001b[0m\n\u001b[0;32m   2294\u001b[0m \u001b[1;32mdef\u001b[0m \u001b[0mimsave\u001b[0m\u001b[1;33m(\u001b[0m\u001b[1;33m*\u001b[0m\u001b[0margs\u001b[0m\u001b[1;33m,\u001b[0m \u001b[1;33m**\u001b[0m\u001b[0mkwargs\u001b[0m\u001b[1;33m)\u001b[0m\u001b[1;33m:\u001b[0m\u001b[1;33m\u001b[0m\u001b[0m\n\u001b[1;32m-> 2295\u001b[1;33m     \u001b[1;32mreturn\u001b[0m \u001b[0m_imsave\u001b[0m\u001b[1;33m(\u001b[0m\u001b[1;33m*\u001b[0m\u001b[0margs\u001b[0m\u001b[1;33m,\u001b[0m \u001b[1;33m**\u001b[0m\u001b[0mkwargs\u001b[0m\u001b[1;33m)\u001b[0m\u001b[1;33m\u001b[0m\u001b[0m\n\u001b[0m\u001b[0;32m   2296\u001b[0m \u001b[1;33m\u001b[0m\u001b[0m\n\u001b[0;32m   2297\u001b[0m \u001b[1;33m\u001b[0m\u001b[0m\n",
      "\u001b[1;32m/home/ryan/anaconda2/lib/python2.7/site-packages/matplotlib/image.pyc\u001b[0m in \u001b[0;36mimsave\u001b[1;34m(fname, arr, vmin, vmax, cmap, format, origin, dpi)\u001b[0m\n\u001b[0;32m   1368\u001b[0m     im = fig.figimage(arr, cmap=cmap, vmin=vmin, vmax=vmax, origin=origin,\n\u001b[0;32m   1369\u001b[0m                       resize=True)\n\u001b[1;32m-> 1370\u001b[1;33m     \u001b[0mfig\u001b[0m\u001b[1;33m.\u001b[0m\u001b[0msavefig\u001b[0m\u001b[1;33m(\u001b[0m\u001b[0mfname\u001b[0m\u001b[1;33m,\u001b[0m \u001b[0mdpi\u001b[0m\u001b[1;33m=\u001b[0m\u001b[0mdpi\u001b[0m\u001b[1;33m,\u001b[0m \u001b[0mformat\u001b[0m\u001b[1;33m=\u001b[0m\u001b[0mformat\u001b[0m\u001b[1;33m,\u001b[0m \u001b[0mtransparent\u001b[0m\u001b[1;33m=\u001b[0m\u001b[0mTrue\u001b[0m\u001b[1;33m)\u001b[0m\u001b[1;33m\u001b[0m\u001b[0m\n\u001b[0m\u001b[0;32m   1371\u001b[0m \u001b[1;33m\u001b[0m\u001b[0m\n\u001b[0;32m   1372\u001b[0m \u001b[1;33m\u001b[0m\u001b[0m\n",
      "\u001b[1;32m/home/ryan/anaconda2/lib/python2.7/site-packages/matplotlib/figure.pyc\u001b[0m in \u001b[0;36msavefig\u001b[1;34m(self, *args, **kwargs)\u001b[0m\n\u001b[0;32m   1563\u001b[0m             \u001b[0mself\u001b[0m\u001b[1;33m.\u001b[0m\u001b[0mset_frameon\u001b[0m\u001b[1;33m(\u001b[0m\u001b[0mframeon\u001b[0m\u001b[1;33m)\u001b[0m\u001b[1;33m\u001b[0m\u001b[0m\n\u001b[0;32m   1564\u001b[0m \u001b[1;33m\u001b[0m\u001b[0m\n\u001b[1;32m-> 1565\u001b[1;33m         \u001b[0mself\u001b[0m\u001b[1;33m.\u001b[0m\u001b[0mcanvas\u001b[0m\u001b[1;33m.\u001b[0m\u001b[0mprint_figure\u001b[0m\u001b[1;33m(\u001b[0m\u001b[1;33m*\u001b[0m\u001b[0margs\u001b[0m\u001b[1;33m,\u001b[0m \u001b[1;33m**\u001b[0m\u001b[0mkwargs\u001b[0m\u001b[1;33m)\u001b[0m\u001b[1;33m\u001b[0m\u001b[0m\n\u001b[0m\u001b[0;32m   1566\u001b[0m \u001b[1;33m\u001b[0m\u001b[0m\n\u001b[0;32m   1567\u001b[0m         \u001b[1;32mif\u001b[0m \u001b[0mframeon\u001b[0m\u001b[1;33m:\u001b[0m\u001b[1;33m\u001b[0m\u001b[0m\n",
      "\u001b[1;32m/home/ryan/anaconda2/lib/python2.7/site-packages/matplotlib/backend_bases.pyc\u001b[0m in \u001b[0;36mprint_figure\u001b[1;34m(self, filename, dpi, facecolor, edgecolor, orientation, format, **kwargs)\u001b[0m\n\u001b[0;32m   2230\u001b[0m                 \u001b[0morientation\u001b[0m\u001b[1;33m=\u001b[0m\u001b[0morientation\u001b[0m\u001b[1;33m,\u001b[0m\u001b[1;33m\u001b[0m\u001b[0m\n\u001b[0;32m   2231\u001b[0m                 \u001b[0mbbox_inches_restore\u001b[0m\u001b[1;33m=\u001b[0m\u001b[0m_bbox_inches_restore\u001b[0m\u001b[1;33m,\u001b[0m\u001b[1;33m\u001b[0m\u001b[0m\n\u001b[1;32m-> 2232\u001b[1;33m                 **kwargs)\n\u001b[0m\u001b[0;32m   2233\u001b[0m         \u001b[1;32mfinally\u001b[0m\u001b[1;33m:\u001b[0m\u001b[1;33m\u001b[0m\u001b[0m\n\u001b[0;32m   2234\u001b[0m             \u001b[1;32mif\u001b[0m \u001b[0mbbox_inches\u001b[0m \u001b[1;32mand\u001b[0m \u001b[0mrestore_bbox\u001b[0m\u001b[1;33m:\u001b[0m\u001b[1;33m\u001b[0m\u001b[0m\n",
      "\u001b[1;32m/home/ryan/anaconda2/lib/python2.7/site-packages/matplotlib/backends/backend_agg.pyc\u001b[0m in \u001b[0;36mprint_png\u001b[1;34m(self, filename_or_obj, *args, **kwargs)\u001b[0m\n\u001b[0;32m    535\u001b[0m             \u001b[0mclose\u001b[0m \u001b[1;33m=\u001b[0m \u001b[0mFalse\u001b[0m\u001b[1;33m\u001b[0m\u001b[0m\n\u001b[0;32m    536\u001b[0m         \u001b[1;32mtry\u001b[0m\u001b[1;33m:\u001b[0m\u001b[1;33m\u001b[0m\u001b[0m\n\u001b[1;32m--> 537\u001b[1;33m             \u001b[0m_png\u001b[0m\u001b[1;33m.\u001b[0m\u001b[0mwrite_png\u001b[0m\u001b[1;33m(\u001b[0m\u001b[0mrenderer\u001b[0m\u001b[1;33m.\u001b[0m\u001b[0m_renderer\u001b[0m\u001b[1;33m,\u001b[0m \u001b[0mfilename_or_obj\u001b[0m\u001b[1;33m,\u001b[0m \u001b[0mself\u001b[0m\u001b[1;33m.\u001b[0m\u001b[0mfigure\u001b[0m\u001b[1;33m.\u001b[0m\u001b[0mdpi\u001b[0m\u001b[1;33m)\u001b[0m\u001b[1;33m\u001b[0m\u001b[0m\n\u001b[0m\u001b[0;32m    538\u001b[0m         \u001b[1;32mfinally\u001b[0m\u001b[1;33m:\u001b[0m\u001b[1;33m\u001b[0m\u001b[0m\n\u001b[0;32m    539\u001b[0m             \u001b[1;32mif\u001b[0m \u001b[0mclose\u001b[0m\u001b[1;33m:\u001b[0m\u001b[1;33m\u001b[0m\u001b[0m\n",
      "\u001b[1;31mRuntimeError\u001b[0m: Could not create write struct"
     ]
    },
    {
     "data": {
      "text/plain": [
       "<matplotlib.figure.Figure at 0x7f6dfb403b50>"
      ]
     },
     "metadata": {},
     "output_type": "display_data"
    }
   ],
   "source": [
    "# Plot the resulting dataset:\n",
    "# Make sure you \"run\" this cell after you create your `imgs` variable as a 4-D array!\n",
    "\n",
    "plt.figure(figsize=(10, 10))\n",
    "plt.imshow(montage(imgs, saveto='dataset.png'))"
   ]
  },
  {
   "cell_type": "code",
   "execution_count": 34,
   "metadata": {
    "collapsed": true
   },
   "outputs": [
    {
     "name": "stdout",
     "output_type": "stream",
     "text": [
      "Downloading MNIST...\n",
      "Succesfully downloaded train-images-idx3-ubyte.gz 9912422 bytes.\n",
      "Extracting mnist/train-images-idx3-ubyte.gz\n",
      "Downloading MNIST...\n"
     ]
    },
    {
     "name": "stderr",
     "output_type": "stream",
     "text": [
      "/home/ryan/anaconda2/lib/python2.7/gzip.py:275: VisibleDeprecationWarning: converting an array with ndim > 0 to an index will result in an error in the future\n",
      "  chunk = self.extrabuf[offset: offset + size]\n",
      "/home/ryan/anaconda2/lib/python2.7/site-packages/tflearn/datasets/mnist.py:52: VisibleDeprecationWarning: converting an array with ndim > 0 to an index will result in an error in the future\n",
      "  data = data.reshape(num_images, rows, cols, 1)\n"
     ]
    },
    {
     "name": "stdout",
     "output_type": "stream",
     "text": [
      "Succesfully downloaded train-labels-idx1-ubyte.gz 28881 bytes.\n",
      "Extracting mnist/train-labels-idx1-ubyte.gz\n",
      "Downloading MNIST...\n",
      "Succesfully downloaded t10k-images-idx3-ubyte.gz 1648877 bytes.\n",
      "Extracting mnist/t10k-images-idx3-ubyte.gz\n",
      "Downloading MNIST...\n",
      "Succesfully downloaded t10k-labels-idx1-ubyte.gz 4542 bytes.\n",
      "Extracting mnist/t10k-labels-idx1-ubyte.gz\n"
     ]
    }
   ],
   "source": [
    "import tflearn.datasets.mnist as mnist\n",
    "\n",
    "X, Y, testX, testY = mnist.load_data(one_hot=True)\n"
   ]
  },
  {
   "cell_type": "code",
   "execution_count": 47,
   "metadata": {
    "collapsed": true
   },
   "outputs": [
    {
     "data": {
      "text/plain": [
       "array([[[[ 0.83167124,  0.83792126,  0.83877909],\n",
       "         [ 0.84569162,  0.84569162,  0.84569162],\n",
       "         [ 0.84860218,  0.85168886,  0.85014552],\n",
       "         ..., \n",
       "         [ 0.86470586,  0.87220436,  0.86830962],\n",
       "         [ 0.86449909,  0.86449909,  0.85665596],\n",
       "         [ 0.86652881,  0.85976946,  0.84968597]],\n",
       "\n",
       "        [[ 0.83739662,  0.83864123,  0.82776117],\n",
       "         [ 0.83940333,  0.84754133,  0.83767998],\n",
       "         [ 0.85582876,  0.84887028,  0.85040975],\n",
       "         ..., \n",
       "         [ 0.8735562 ,  0.87139249,  0.85503983],\n",
       "         [ 0.85882354,  0.85642999,  0.85030252],\n",
       "         [ 0.86188728,  0.85955882,  0.84877449]],\n",
       "\n",
       "        [[ 0.83968288,  0.84301472,  0.83350569],\n",
       "         [ 0.84332871,  0.85092676,  0.84712774],\n",
       "         [ 0.85821843,  0.85110295,  0.85442322],\n",
       "         ..., \n",
       "         [ 0.86285996,  0.86298639,  0.85478324],\n",
       "         [ 0.85789675,  0.85808825,  0.85793889],\n",
       "         [ 0.85103017,  0.85090762,  0.84306449]],\n",
       "\n",
       "        ..., \n",
       "        [[ 0.83784086,  0.85235143,  0.83386946],\n",
       "         [ 0.84313726,  0.84313726,  0.85073531],\n",
       "         [ 0.83565795,  0.84337467,  0.83137637],\n",
       "         ..., \n",
       "         [ 0.76838237,  0.77230006,  0.75270373],\n",
       "         [ 0.77098268,  0.76872319,  0.7492379 ],\n",
       "         [ 0.77771908,  0.76916742,  0.76286763]],\n",
       "\n",
       "        [[ 0.8338235 ,  0.83676469,  0.83631283],\n",
       "         [ 0.84361976,  0.84055609,  0.83271295],\n",
       "         [ 0.84036076,  0.84617418,  0.83536303],\n",
       "         ..., \n",
       "         [ 0.76835555,  0.76458335,  0.74906176],\n",
       "         [ 0.76833254,  0.77131587,  0.75208336],\n",
       "         [ 0.75906861,  0.76431906,  0.75402498]],\n",
       "\n",
       "        [[ 0.8392157 ,  0.84240198,  0.83296567],\n",
       "         [ 0.83797103,  0.83797103,  0.83478475],\n",
       "         [ 0.83764553,  0.84075904,  0.82764632],\n",
       "         ..., \n",
       "         [ 0.75418967,  0.76644456,  0.76257277],\n",
       "         [ 0.76333869,  0.76869255,  0.75886947],\n",
       "         [ 0.77909774,  0.7647059 ,  0.76862746]]],\n",
       "\n",
       "\n",
       "       [[[ 0.87972581,  0.88627452,  0.88300014],\n",
       "         [ 0.88564259,  0.88553923,  0.87581956],\n",
       "         [ 0.88794041,  0.88784087,  0.88789064],\n",
       "         ..., \n",
       "         [ 0.898112  ,  0.898112  ,  0.89026886],\n",
       "         [ 0.89434361,  0.90071613,  0.89554995],\n",
       "         [ 0.90385264,  0.90161228,  0.90036762]],\n",
       "\n",
       "        [[ 0.88949907,  0.88586092,  0.88347501],\n",
       "         [ 0.88799787,  0.88358611,  0.88579196],\n",
       "         [ 0.88311505,  0.88231081,  0.89270067],\n",
       "         ..., \n",
       "         [ 0.89720815,  0.89720815,  0.88936502],\n",
       "         [ 0.90110296,  0.89889705,  0.89314491],\n",
       "         [ 0.89908469,  0.89718139,  0.90194166]],\n",
       "\n",
       "        [[ 0.8846584 ,  0.8846584 ,  0.88147211],\n",
       "         [ 0.89007354,  0.88394606,  0.8870098 ],\n",
       "         [ 0.89743793,  0.88983226,  0.89387256],\n",
       "         ..., \n",
       "         [ 0.89803922,  0.89816177,  0.88995099],\n",
       "         [ 0.89823067,  0.89803922,  0.89641929],\n",
       "         [ 0.90031785,  0.8987745 ,  0.89132202]],\n",
       "\n",
       "        ..., \n",
       "        [[ 0.07507659,  0.06438802,  0.05880055],\n",
       "         [ 0.05977711,  0.05977711,  0.05193398],\n",
       "         [ 0.08198912,  0.08210784,  0.08174402],\n",
       "         ..., \n",
       "         [ 0.07806756,  0.07450598,  0.06678922],\n",
       "         [ 0.09720818,  0.09720818,  0.09715457],\n",
       "         [ 0.59062499,  0.59018457,  0.6079312 ]],\n",
       "\n",
       "        [[ 0.06701516,  0.0748583 ,  0.06673177],\n",
       "         [ 0.06752451,  0.06752451,  0.06752451],\n",
       "         [ 0.07056143,  0.07061505,  0.07058824],\n",
       "         ..., \n",
       "         [ 0.08538986,  0.07779182,  0.08159084],\n",
       "         [ 0.08254059,  0.08321078,  0.08455116],\n",
       "         [ 0.13291973,  0.13106234,  0.11521523]],\n",
       "\n",
       "        [[ 0.0627451 ,  0.06929381,  0.06601945],\n",
       "         [ 0.06325445,  0.07109758,  0.06647901],\n",
       "         [ 0.07789139,  0.07230392,  0.06945848],\n",
       "         ..., \n",
       "         [ 0.0863243 ,  0.08622473,  0.08612898],\n",
       "         [ 0.08161765,  0.08161765,  0.07626379],\n",
       "         [ 0.10420113,  0.10420113,  0.10101486]]],\n",
       "\n",
       "\n",
       "       [[[ 0.96034771,  0.96237743,  0.97771525],\n",
       "         [ 0.96043581,  0.96442246,  0.96578968],\n",
       "         [ 0.95838314,  0.96303999,  0.96081114],\n",
       "         ..., \n",
       "         [ 0.80784315,  0.80784315,  0.80009955],\n",
       "         [ 0.81109452,  0.80768228,  0.79983914],\n",
       "         [ 0.81271064,  0.80814183,  0.80507815]],\n",
       "\n",
       "        [[ 0.96260339,  0.96924019,  0.96789217],\n",
       "         [ 0.95992649,  0.96948528,  0.96556371],\n",
       "         [ 0.95705426,  0.95772058,  0.95953202],\n",
       "         ..., \n",
       "         [ 0.7950176 ,  0.80983073,  0.79643458],\n",
       "         [ 0.80295652,  0.81023669,  0.80612743],\n",
       "         [ 0.81677008,  0.81013328,  0.80345052]],\n",
       "\n",
       "        [[ 0.95590913,  0.96708411,  0.96624923],\n",
       "         [ 0.9401961 ,  0.95757121,  0.96071535],\n",
       "         [ 0.9607805 ,  0.9607805 ,  0.96054304],\n",
       "         ..., \n",
       "         [ 0.80808443,  0.80416286,  0.78847271],\n",
       "         [ 0.81470591,  0.81256896,  0.80247778],\n",
       "         [ 0.80782014,  0.80777037,  0.79992723]],\n",
       "\n",
       "        ..., \n",
       "        [[ 0.93713236,  0.94105393,  0.95649511],\n",
       "         [ 0.93713236,  0.935049  ,  0.91899508],\n",
       "         [ 0.94888937,  0.9334482 ,  0.93000919],\n",
       "         ..., \n",
       "         [ 0.07450598,  0.0666705 ,  0.07058824],\n",
       "         [ 0.08012025,  0.08012025,  0.08006664],\n",
       "         [ 0.18234912,  0.15916437,  0.15801165]],\n",
       "\n",
       "        [[ 0.93725491,  0.93725491,  0.93553919],\n",
       "         [ 0.93927312,  0.94136411,  0.94050628],\n",
       "         [ 0.93250227,  0.9339729 ,  0.93323761],\n",
       "         ..., \n",
       "         [ 0.07690717,  0.07352941,  0.07444087],\n",
       "         [ 0.07249923,  0.07249923,  0.07517999],\n",
       "         [ 0.09405255,  0.08588772,  0.09628523]],\n",
       "\n",
       "        [[ 0.93450522,  0.93893611,  0.9383387 ],\n",
       "         [ 0.92140776,  0.93072152,  0.92730927],\n",
       "         [ 0.91558671,  0.92342985,  0.91950828],\n",
       "         ..., \n",
       "         [ 0.06664369,  0.07424173,  0.0627451 ],\n",
       "         [ 0.06752451,  0.06752451,  0.06388634],\n",
       "         [ 0.07619102,  0.07619102,  0.07429917]]],\n",
       "\n",
       "\n",
       "       ..., \n",
       "       [[[ 0.83137256,  0.82948071,  0.83042663],\n",
       "         [ 0.83188188,  0.83028877,  0.81925935],\n",
       "         [ 0.83375078,  0.82899433,  0.83151805],\n",
       "         ..., \n",
       "         [ 0.94502527,  0.9489966 ,  0.95669043],\n",
       "         [ 0.95868182,  0.95476025,  0.94327897],\n",
       "         [ 0.9473384 ,  0.9522059 ,  0.95721126]],\n",
       "\n",
       "        [[ 0.82961857,  0.82961857,  0.83504903],\n",
       "         [ 0.82879138,  0.82849646,  0.82046568],\n",
       "         [ 0.83134574,  0.83421797,  0.81747091],\n",
       "         ..., \n",
       "         [ 0.94286537,  0.94899279,  0.94421339],\n",
       "         [ 0.94853705,  0.94853705,  0.95160848],\n",
       "         [ 0.95584404,  0.95686275,  0.95271522]],\n",
       "\n",
       "        [[ 0.83517158,  0.8329159 ,  0.82517231],\n",
       "         [ 0.83517158,  0.83134574,  0.8235026 ],\n",
       "         [ 0.83149129,  0.82756972,  0.81972659],\n",
       "         ..., \n",
       "         [ 0.93726254,  0.94509804,  0.93370098],\n",
       "         [ 0.94419807,  0.95204121,  0.94792813],\n",
       "         [ 0.9489966 ,  0.9489966 ,  0.95218289]],\n",
       "\n",
       "        ..., \n",
       "        [[ 0.79137176,  0.78828508,  0.78972888],\n",
       "         [ 0.79298788,  0.79298788,  0.78514475],\n",
       "         [ 0.79203814,  0.79191178,  0.78431755],\n",
       "         ..., \n",
       "         [ 0.85870099,  0.85870099,  0.86654413],\n",
       "         [ 0.86865425,  0.86383271,  0.85882354],\n",
       "         [ 0.86357611,  0.8556143 ,  0.86656708]],\n",
       "\n",
       "        [[ 0.80041361,  0.7872166 ,  0.79362744],\n",
       "         [ 0.79129905,  0.79062885,  0.79100412],\n",
       "         [ 0.80309051,  0.78740424,  0.78348267],\n",
       "         ..., \n",
       "         [ 0.84399509,  0.83995098,  0.83247548],\n",
       "         [ 0.84705883,  0.84724647,  0.83530176],\n",
       "         [ 0.85001916,  0.84616268,  0.84721965]],\n",
       "\n",
       "        [[ 0.79513252,  0.78823531,  0.79121095],\n",
       "         [ 0.78766084,  0.78874463,  0.8003217 ],\n",
       "         [ 0.80360371,  0.78828508,  0.78424096],\n",
       "         ..., \n",
       "         [ 0.83936119,  0.83522135,  0.82293963],\n",
       "         [ 0.84227943,  0.8392157 ,  0.83206958],\n",
       "         [ 0.84334791,  0.84080881,  0.83296567]]],\n",
       "\n",
       "\n",
       "       [[[ 0.8856771 ,  0.87972581,  0.88588774],\n",
       "         [ 0.87808287,  0.88592601,  0.88200444],\n",
       "         [ 0.88860291,  0.88860291,  0.8917892 ],\n",
       "         ..., \n",
       "         [ 0.78041899,  0.77247626,  0.77629822],\n",
       "         [ 0.7847656 ,  0.77261412,  0.77083331],\n",
       "         [ 0.77922028,  0.76768154,  0.76556373]],\n",
       "\n",
       "        [[ 0.87054992,  0.8770259 ,  0.87318856],\n",
       "         [ 0.88810509,  0.88541669,  0.87776119],\n",
       "         [ 0.88327974,  0.88327974,  0.88308823],\n",
       "         ..., \n",
       "         [ 0.77486211,  0.7802428 ,  0.77554381],\n",
       "         [ 0.773112  ,  0.76929766,  0.76164216],\n",
       "         [ 0.77118182,  0.76687348,  0.76517695]],\n",
       "\n",
       "        [[ 0.86607689,  0.87213159,  0.87296259],\n",
       "         [ 0.87058824,  0.87843138,  0.87450981],\n",
       "         [ 0.87058443,  0.88603324,  0.88235676],\n",
       "         ..., \n",
       "         [ 0.78430605,  0.76898742,  0.77230394],\n",
       "         [ 0.7720052 ,  0.76563269,  0.76872319],\n",
       "         [ 0.76321232,  0.76316255,  0.75531942]],\n",
       "\n",
       "        ..., \n",
       "        [[ 0.8665939 ,  0.86267233,  0.85482919],\n",
       "         [ 0.85499769,  0.86259574,  0.85879672],\n",
       "         [ 0.8589384 ,  0.85490197,  0.84742266],\n",
       "         ..., \n",
       "         [ 0.7178998 ,  0.71764708,  0.70945162],\n",
       "         [ 0.71301699,  0.70603168,  0.70737976],\n",
       "         [ 0.69892001,  0.7033816 ,  0.69328278]],\n",
       "\n",
       "        [[ 0.85610831,  0.85645682,  0.84756815],\n",
       "         [ 0.85710019,  0.85557216,  0.84638864],\n",
       "         [ 0.85423559,  0.846201  ,  0.85012257],\n",
       "         ..., \n",
       "         [ 0.71936274,  0.7125268 ,  0.70144379],\n",
       "         [ 0.70961624,  0.70655257,  0.69870943],\n",
       "         [ 0.71752453,  0.70183825,  0.69007355]],\n",
       "\n",
       "        [[ 0.86027879,  0.8558479 ,  0.85644531],\n",
       "         [ 0.85404414,  0.85155481,  0.85279948],\n",
       "         [ 0.85115272,  0.84330958,  0.84723115],\n",
       "         ..., \n",
       "         [ 0.7161535 ,  0.71208256,  0.70110291],\n",
       "         [ 0.70894605,  0.70161229,  0.70400584],\n",
       "         [ 0.70691633,  0.69317174,  0.68860292]]],\n",
       "\n",
       "\n",
       "       [[[ 0.85989201,  0.86731386,  0.87377453],\n",
       "         [ 0.86666667,  0.87365198,  0.8723039 ],\n",
       "         [ 0.87624848,  0.87159163,  0.87392002],\n",
       "         ..., \n",
       "         [ 0.8800475 ,  0.8846584 ,  0.88235295],\n",
       "         [ 0.88184363,  0.88355929,  0.88270146],\n",
       "         [ 0.88097042,  0.88329887,  0.89114201]],\n",
       "\n",
       "        [[ 0.86803383,  0.8648476 ,  0.86644071],\n",
       "         [ 0.86542588,  0.87192863,  0.86733687],\n",
       "         [ 0.87049252,  0.87049252,  0.8705461 ],\n",
       "         ..., \n",
       "         [ 0.88336015,  0.88642389,  0.8925513 ],\n",
       "         [ 0.88302314,  0.88302314,  0.87555528],\n",
       "         [ 0.88662302,  0.88343674,  0.88502985]],\n",
       "\n",
       "        [[ 0.8665939 ,  0.87125075,  0.86892235],\n",
       "         [ 0.87036997,  0.87850028,  0.87429154],\n",
       "         [ 0.87462854,  0.87462854,  0.86702281],\n",
       "         ..., \n",
       "         [ 0.88247168,  0.89007735,  0.88627452],\n",
       "         [ 0.88615197,  0.88615197,  0.87830883],\n",
       "         [ 0.87622547,  0.88245249,  0.88337928]],\n",
       "\n",
       "        ..., \n",
       "        [[ 0.05181526,  0.06036688,  0.06666667],\n",
       "         [ 0.04320619,  0.04492188,  0.05019148],\n",
       "         [ 0.03909697,  0.03909697,  0.04669501],\n",
       "         ..., \n",
       "         [ 0.07046185,  0.07070696,  0.07058441],\n",
       "         [ 0.06657092,  0.05897289,  0.07036994],\n",
       "         [ 0.06215533,  0.06666667,  0.064411  ]],\n",
       "\n",
       "        [[ 0.05904948,  0.06297105,  0.07081418],\n",
       "         [ 0.04160156,  0.04858686,  0.04723882],\n",
       "         [ 0.03835784,  0.04007353,  0.03921569],\n",
       "         ..., \n",
       "         [ 0.06259574,  0.06284084,  0.06271829],\n",
       "         [ 0.05471431,  0.0568053 ,  0.04982001],\n",
       "         [ 0.0557981 ,  0.05943627,  0.05761719]],\n",
       "\n",
       "        [[ 0.04327512,  0.05766697,  0.05840227],\n",
       "         [ 0.05148974,  0.05933287,  0.05541131],\n",
       "         [ 0.02911688,  0.03362822,  0.03137255],\n",
       "         ..., \n",
       "         [ 0.05642233,  0.06426547,  0.0603439 ],\n",
       "         [ 0.06364124,  0.06115196,  0.0623966 ],\n",
       "         [ 0.05838695,  0.06115196,  0.05976946]]]], dtype=float32)"
      ]
     },
     "execution_count": 47,
     "metadata": {},
     "output_type": "execute_result"
    }
   ],
   "source": []
  },
  {
   "cell_type": "code",
   "execution_count": 28,
   "metadata": {
    "collapsed": false
   },
   "outputs": [
    {
     "data": {
      "text/plain": [
       "array([48, 48,  3])"
      ]
     },
     "execution_count": 28,
     "metadata": {},
     "output_type": "execute_result"
    }
   ],
   "source": [
    "example_pic = imgs[0].shape\n",
    "np_pic = np.array(example_pic)\n",
    "np_pic"
   ]
  },
  {
   "cell_type": "code",
   "execution_count": 32,
   "metadata": {
    "collapsed": false
   },
   "outputs": [],
   "source": [
    "image = tf.placeholder(tf.float32)\n",
    "\n",
    "result = tf.add(image, 0)\n",
    "\n",
    "h1 = layer(x,w)\n",
    "h2 = layer(h1,w)\n",
    "h3 = layer(h2,w)\n",
    "O = layer(h3, w)\n",
    "\n",
    "loss = lossfunction( O, label)\n",
    "train = Optimizer.minimize(loss)\n",
    "\n",
    "with tf.Session() as sess:\n",
    "    sess.run( result, feed_dict={x: Image, y= Label})"
   ]
  },
  {
   "cell_type": "code",
   "execution_count": null,
   "metadata": {
    "collapsed": true
   },
   "outputs": [],
   "source": [
    "image = tf.placeholder(tf.float32)\n",
    "\n",
    "result = tf.add(image, 0)\n",
    "\n",
    "with tf.Session() as sess:\n",
    "    sess.run( result, feed_dict={image: np_pic})"
   ]
  },
  {
   "cell_type": "code",
   "execution_count": null,
   "metadata": {
    "collapsed": true
   },
   "outputs": [],
   "source": []
  },
  {
   "cell_type": "code",
   "execution_count": null,
   "metadata": {
    "collapsed": true
   },
   "outputs": [],
   "source": []
  },
  {
   "cell_type": "code",
   "execution_count": 59,
   "metadata": {
    "collapsed": true
   },
   "outputs": [
    {
     "ename": "ValueError",
     "evalue": "Must pass 2-d input",
     "output_type": "error",
     "traceback": [
      "\u001b[1;31m---------------------------------------------------------------------------\u001b[0m",
      "\u001b[1;31mValueError\u001b[0m                                Traceback (most recent call last)",
      "\u001b[1;32m<ipython-input-59-66da8568d845>\u001b[0m in \u001b[0;36m<module>\u001b[1;34m()\u001b[0m\n\u001b[1;32m----> 1\u001b[1;33m \u001b[0ms\u001b[0m \u001b[1;33m=\u001b[0m \u001b[0mpandas\u001b[0m\u001b[1;33m.\u001b[0m\u001b[0mDataFrame\u001b[0m\u001b[1;33m(\u001b[0m\u001b[0mimgs\u001b[0m\u001b[1;33m)\u001b[0m\u001b[1;33m\u001b[0m\u001b[0m\n\u001b[0m",
      "\u001b[1;32m/home/ryan/anaconda2/lib/python2.7/site-packages/pandas/core/frame.pyc\u001b[0m in \u001b[0;36m__init__\u001b[1;34m(self, data, index, columns, dtype, copy)\u001b[0m\n\u001b[0;32m    252\u001b[0m             \u001b[1;32melse\u001b[0m\u001b[1;33m:\u001b[0m\u001b[1;33m\u001b[0m\u001b[0m\n\u001b[0;32m    253\u001b[0m                 mgr = self._init_ndarray(data, index, columns, dtype=dtype,\n\u001b[1;32m--> 254\u001b[1;33m                                          copy=copy)\n\u001b[0m\u001b[0;32m    255\u001b[0m         \u001b[1;32melif\u001b[0m \u001b[0misinstance\u001b[0m\u001b[1;33m(\u001b[0m\u001b[0mdata\u001b[0m\u001b[1;33m,\u001b[0m \u001b[1;33m(\u001b[0m\u001b[0mlist\u001b[0m\u001b[1;33m,\u001b[0m \u001b[0mtypes\u001b[0m\u001b[1;33m.\u001b[0m\u001b[0mGeneratorType\u001b[0m\u001b[1;33m)\u001b[0m\u001b[1;33m)\u001b[0m\u001b[1;33m:\u001b[0m\u001b[1;33m\u001b[0m\u001b[0m\n\u001b[0;32m    256\u001b[0m             \u001b[1;32mif\u001b[0m \u001b[0misinstance\u001b[0m\u001b[1;33m(\u001b[0m\u001b[0mdata\u001b[0m\u001b[1;33m,\u001b[0m \u001b[0mtypes\u001b[0m\u001b[1;33m.\u001b[0m\u001b[0mGeneratorType\u001b[0m\u001b[1;33m)\u001b[0m\u001b[1;33m:\u001b[0m\u001b[1;33m\u001b[0m\u001b[0m\n",
      "\u001b[1;32m/home/ryan/anaconda2/lib/python2.7/site-packages/pandas/core/frame.pyc\u001b[0m in \u001b[0;36m_init_ndarray\u001b[1;34m(self, values, index, columns, dtype, copy)\u001b[0m\n\u001b[0;32m    409\u001b[0m         \u001b[1;31m# by definition an array here\u001b[0m\u001b[1;33m\u001b[0m\u001b[1;33m\u001b[0m\u001b[0m\n\u001b[0;32m    410\u001b[0m         \u001b[1;31m# the dtypes will be coerced to a single dtype\u001b[0m\u001b[1;33m\u001b[0m\u001b[1;33m\u001b[0m\u001b[0m\n\u001b[1;32m--> 411\u001b[1;33m         \u001b[0mvalues\u001b[0m \u001b[1;33m=\u001b[0m \u001b[0m_prep_ndarray\u001b[0m\u001b[1;33m(\u001b[0m\u001b[0mvalues\u001b[0m\u001b[1;33m,\u001b[0m \u001b[0mcopy\u001b[0m\u001b[1;33m=\u001b[0m\u001b[0mcopy\u001b[0m\u001b[1;33m)\u001b[0m\u001b[1;33m\u001b[0m\u001b[0m\n\u001b[0m\u001b[0;32m    412\u001b[0m \u001b[1;33m\u001b[0m\u001b[0m\n\u001b[0;32m    413\u001b[0m         \u001b[1;32mif\u001b[0m \u001b[0mdtype\u001b[0m \u001b[1;32mis\u001b[0m \u001b[1;32mnot\u001b[0m \u001b[0mNone\u001b[0m\u001b[1;33m:\u001b[0m\u001b[1;33m\u001b[0m\u001b[0m\n",
      "\u001b[1;32m/home/ryan/anaconda2/lib/python2.7/site-packages/pandas/core/frame.pyc\u001b[0m in \u001b[0;36m_prep_ndarray\u001b[1;34m(values, copy)\u001b[0m\n\u001b[0;32m   5332\u001b[0m         \u001b[0mvalues\u001b[0m \u001b[1;33m=\u001b[0m \u001b[0mvalues\u001b[0m\u001b[1;33m.\u001b[0m\u001b[0mreshape\u001b[0m\u001b[1;33m(\u001b[0m\u001b[1;33m(\u001b[0m\u001b[0mvalues\u001b[0m\u001b[1;33m.\u001b[0m\u001b[0mshape\u001b[0m\u001b[1;33m[\u001b[0m\u001b[1;36m0\u001b[0m\u001b[1;33m]\u001b[0m\u001b[1;33m,\u001b[0m \u001b[1;36m1\u001b[0m\u001b[1;33m)\u001b[0m\u001b[1;33m)\u001b[0m\u001b[1;33m\u001b[0m\u001b[0m\n\u001b[0;32m   5333\u001b[0m     \u001b[1;32melif\u001b[0m \u001b[0mvalues\u001b[0m\u001b[1;33m.\u001b[0m\u001b[0mndim\u001b[0m \u001b[1;33m!=\u001b[0m \u001b[1;36m2\u001b[0m\u001b[1;33m:\u001b[0m\u001b[1;33m\u001b[0m\u001b[0m\n\u001b[1;32m-> 5334\u001b[1;33m         \u001b[1;32mraise\u001b[0m \u001b[0mValueError\u001b[0m\u001b[1;33m(\u001b[0m\u001b[1;34m'Must pass 2-d input'\u001b[0m\u001b[1;33m)\u001b[0m\u001b[1;33m\u001b[0m\u001b[0m\n\u001b[0m\u001b[0;32m   5335\u001b[0m \u001b[1;33m\u001b[0m\u001b[0m\n\u001b[0;32m   5336\u001b[0m     \u001b[1;32mreturn\u001b[0m \u001b[0mvalues\u001b[0m\u001b[1;33m\u001b[0m\u001b[0m\n",
      "\u001b[1;31mValueError\u001b[0m: Must pass 2-d input"
     ]
    }
   ],
   "source": [
    "s = pandas.DataFrame(imgs)"
   ]
  },
  {
   "cell_type": "code",
   "execution_count": 4,
   "metadata": {
    "collapsed": true
   },
   "outputs": [
    {
     "name": "stdout",
     "output_type": "stream",
     "text": [
      "[+] Building CNN\n"
     ]
    },
    {
     "ename": "InternalError",
     "evalue": "Dst tensor is not initialized.\n\t [[Node: Momentum_2/zeros_7 = Const[dtype=DT_FLOAT, value=Tensor<type: float shape: [18432,3072] values: 0 0 0...>, _device=\"/job:localhost/replica:0/task:0/gpu:0\"]()]]\nCaused by op u'Momentum_2/zeros_7', defined at:\n  File \"/home/ryan/anaconda2/lib/python2.7/runpy.py\", line 162, in _run_module_as_main\n    \"__main__\", fname, loader, pkg_name)\n  File \"/home/ryan/anaconda2/lib/python2.7/runpy.py\", line 72, in _run_code\n    exec code in run_globals\n  File \"/home/ryan/anaconda2/lib/python2.7/site-packages/ipykernel/__main__.py\", line 3, in <module>\n    app.launch_new_instance()\n  File \"/home/ryan/anaconda2/lib/python2.7/site-packages/traitlets/config/application.py\", line 596, in launch_instance\n    app.start()\n  File \"/home/ryan/anaconda2/lib/python2.7/site-packages/ipykernel/kernelapp.py\", line 442, in start\n    ioloop.IOLoop.instance().start()\n  File \"/home/ryan/anaconda2/lib/python2.7/site-packages/zmq/eventloop/ioloop.py\", line 162, in start\n    super(ZMQIOLoop, self).start()\n  File \"/home/ryan/anaconda2/lib/python2.7/site-packages/tornado/ioloop.py\", line 883, in start\n    handler_func(fd_obj, events)\n  File \"/home/ryan/anaconda2/lib/python2.7/site-packages/tornado/stack_context.py\", line 275, in null_wrapper\n    return fn(*args, **kwargs)\n  File \"/home/ryan/anaconda2/lib/python2.7/site-packages/zmq/eventloop/zmqstream.py\", line 440, in _handle_events\n    self._handle_recv()\n  File \"/home/ryan/anaconda2/lib/python2.7/site-packages/zmq/eventloop/zmqstream.py\", line 472, in _handle_recv\n    self._run_callback(callback, msg)\n  File \"/home/ryan/anaconda2/lib/python2.7/site-packages/zmq/eventloop/zmqstream.py\", line 414, in _run_callback\n    callback(*args, **kwargs)\n  File \"/home/ryan/anaconda2/lib/python2.7/site-packages/tornado/stack_context.py\", line 275, in null_wrapper\n    return fn(*args, **kwargs)\n  File \"/home/ryan/anaconda2/lib/python2.7/site-packages/ipykernel/kernelbase.py\", line 276, in dispatcher\n    return self.dispatch_shell(stream, msg)\n  File \"/home/ryan/anaconda2/lib/python2.7/site-packages/ipykernel/kernelbase.py\", line 228, in dispatch_shell\n    handler(stream, idents, msg)\n  File \"/home/ryan/anaconda2/lib/python2.7/site-packages/ipykernel/kernelbase.py\", line 391, in execute_request\n    user_expressions, allow_stdin)\n  File \"/home/ryan/anaconda2/lib/python2.7/site-packages/ipykernel/ipkernel.py\", line 199, in do_execute\n    shell.run_cell(code, store_history=store_history, silent=silent)\n  File \"/home/ryan/anaconda2/lib/python2.7/site-packages/IPython/core/interactiveshell.py\", line 2723, in run_cell\n    interactivity=interactivity, compiler=compiler, result=result)\n  File \"/home/ryan/anaconda2/lib/python2.7/site-packages/IPython/core/interactiveshell.py\", line 2825, in run_ast_nodes\n    if self.run_code(code, result):\n  File \"/home/ryan/anaconda2/lib/python2.7/site-packages/IPython/core/interactiveshell.py\", line 2885, in run_code\n    exec(code_obj, self.user_global_ns, self.user_ns)\n  File \"<ipython-input-4-21cd40d76733>\", line 2, in <module>\n    network.build_network()\n  File \"emotion_recognition.py\", line 42, in build_network\n    tensorboard_verbose = 2\n  File \"/home/ryan/anaconda2/lib/python2.7/site-packages/tflearn/models/dnn.py\", line 57, in __init__\n    session=session)\n  File \"/home/ryan/anaconda2/lib/python2.7/site-packages/tflearn/helpers/trainer.py\", line 111, in __init__\n    clip_gradients)\n  File \"/home/ryan/anaconda2/lib/python2.7/site-packages/tflearn/helpers/trainer.py\", line 574, in initialize_training_ops\n    name=\"apply_grad_op_\" + str(i))\n  File \"/home/ryan/anaconda2/lib/python2.7/site-packages/tensorflow/python/training/optimizer.py\", line 300, in apply_gradients\n    self._create_slots(var_list)\n  File \"/home/ryan/anaconda2/lib/python2.7/site-packages/tensorflow/python/training/momentum.py\", line 51, in _create_slots\n    self._zeros_slot(v, \"momentum\", self._name)\n  File \"/home/ryan/anaconda2/lib/python2.7/site-packages/tensorflow/python/training/optimizer.py\", line 494, in _zeros_slot\n    named_slots[var] = slot_creator.create_zeros_slot(var, op_name)\n  File \"/home/ryan/anaconda2/lib/python2.7/site-packages/tensorflow/python/training/slot_creator.py\", line 106, in create_zeros_slot\n    val = array_ops.zeros(primary.get_shape().as_list(), dtype=dtype)\n  File \"/home/ryan/anaconda2/lib/python2.7/site-packages/tensorflow/python/ops/array_ops.py\", line 1131, in zeros\n    output = constant(0, shape=shape, dtype=dtype, name=name)\n  File \"/home/ryan/anaconda2/lib/python2.7/site-packages/tensorflow/python/framework/constant_op.py\", line 167, in constant\n    attrs={\"value\": tensor_value, \"dtype\": dtype_value}, name=name).outputs[0]\n  File \"/home/ryan/anaconda2/lib/python2.7/site-packages/tensorflow/python/framework/ops.py\", line 2310, in create_op\n    original_op=self._default_original_op, op_def=op_def)\n  File \"/home/ryan/anaconda2/lib/python2.7/site-packages/tensorflow/python/framework/ops.py\", line 1232, in __init__\n    self._traceback = _extract_stack()\n",
     "output_type": "error",
     "traceback": [
      "\u001b[1;31m---------------------------------------------------------------------------\u001b[0m",
      "\u001b[1;31mInternalError\u001b[0m                             Traceback (most recent call last)",
      "\u001b[1;32m<ipython-input-4-21cd40d76733>\u001b[0m in \u001b[0;36m<module>\u001b[1;34m()\u001b[0m\n\u001b[0;32m      1\u001b[0m \u001b[0mnetwork\u001b[0m \u001b[1;33m=\u001b[0m \u001b[0mEmotionRecognition\u001b[0m\u001b[1;33m(\u001b[0m\u001b[1;33m)\u001b[0m\u001b[1;33m\u001b[0m\u001b[0m\n\u001b[1;32m----> 2\u001b[1;33m \u001b[0mnetwork\u001b[0m\u001b[1;33m.\u001b[0m\u001b[0mbuild_network\u001b[0m\u001b[1;33m(\u001b[0m\u001b[1;33m)\u001b[0m\u001b[1;33m\u001b[0m\u001b[0m\n\u001b[0m\u001b[0;32m      3\u001b[0m \u001b[1;33m\u001b[0m\u001b[0m\n\u001b[0;32m      4\u001b[0m \u001b[0mimages\u001b[0m \u001b[1;33m=\u001b[0m \u001b[0mnp\u001b[0m\u001b[1;33m.\u001b[0m\u001b[0mload\u001b[0m\u001b[1;33m(\u001b[0m\u001b[1;34m'./data_kike.npy'\u001b[0m\u001b[1;33m)\u001b[0m\u001b[1;33m\u001b[0m\u001b[0m\n\u001b[0;32m      5\u001b[0m \u001b[0mlabels\u001b[0m \u001b[1;33m=\u001b[0m \u001b[0mnp\u001b[0m\u001b[1;33m.\u001b[0m\u001b[0mload\u001b[0m\u001b[1;33m(\u001b[0m\u001b[1;34m'./labels_kike.npy'\u001b[0m\u001b[1;33m)\u001b[0m\u001b[1;33m\u001b[0m\u001b[0m\n",
      "\u001b[1;32m/home/ryan/git_ryan/Modu_Image/Modu_Image/emotion-recognition-neural-networks/emotion_recognition.pyc\u001b[0m in \u001b[0;36mbuild_network\u001b[1;34m(self)\u001b[0m\n\u001b[0;32m     40\u001b[0m       \u001b[0mcheckpoint_path\u001b[0m \u001b[1;33m=\u001b[0m \u001b[0mSAVE_DIRECTORY\u001b[0m \u001b[1;33m+\u001b[0m \u001b[1;34m'/emotion_recognition'\u001b[0m\u001b[1;33m,\u001b[0m\u001b[1;33m\u001b[0m\u001b[0m\n\u001b[0;32m     41\u001b[0m       \u001b[0mmax_checkpoints\u001b[0m \u001b[1;33m=\u001b[0m \u001b[1;36m1\u001b[0m\u001b[1;33m,\u001b[0m\u001b[1;33m\u001b[0m\u001b[0m\n\u001b[1;32m---> 42\u001b[1;33m       \u001b[0mtensorboard_verbose\u001b[0m \u001b[1;33m=\u001b[0m \u001b[1;36m2\u001b[0m\u001b[1;33m\u001b[0m\u001b[0m\n\u001b[0m\u001b[0;32m     43\u001b[0m     )\n\u001b[0;32m     44\u001b[0m     \u001b[0mself\u001b[0m\u001b[1;33m.\u001b[0m\u001b[0mload_model\u001b[0m\u001b[1;33m(\u001b[0m\u001b[1;33m)\u001b[0m\u001b[1;33m\u001b[0m\u001b[0m\n",
      "\u001b[1;32m/home/ryan/anaconda2/lib/python2.7/site-packages/tflearn/models/dnn.pyc\u001b[0m in \u001b[0;36m__init__\u001b[1;34m(self, network, clip_gradients, tensorboard_verbose, tensorboard_dir, checkpoint_path, max_checkpoints, session)\u001b[0m\n\u001b[0;32m     55\u001b[0m                                \u001b[0mcheckpoint_path\u001b[0m\u001b[1;33m=\u001b[0m\u001b[0mcheckpoint_path\u001b[0m\u001b[1;33m,\u001b[0m\u001b[1;33m\u001b[0m\u001b[0m\n\u001b[0;32m     56\u001b[0m                                \u001b[0mmax_checkpoints\u001b[0m\u001b[1;33m=\u001b[0m\u001b[0mmax_checkpoints\u001b[0m\u001b[1;33m,\u001b[0m\u001b[1;33m\u001b[0m\u001b[0m\n\u001b[1;32m---> 57\u001b[1;33m                                session=session)\n\u001b[0m\u001b[0;32m     58\u001b[0m         \u001b[0mself\u001b[0m\u001b[1;33m.\u001b[0m\u001b[0msession\u001b[0m \u001b[1;33m=\u001b[0m \u001b[0mself\u001b[0m\u001b[1;33m.\u001b[0m\u001b[0mtrainer\u001b[0m\u001b[1;33m.\u001b[0m\u001b[0msession\u001b[0m\u001b[1;33m\u001b[0m\u001b[0m\n\u001b[0;32m     59\u001b[0m \u001b[1;33m\u001b[0m\u001b[0m\n",
      "\u001b[1;32m/home/ryan/anaconda2/lib/python2.7/site-packages/tflearn/helpers/trainer.pyc\u001b[0m in \u001b[0;36m__init__\u001b[1;34m(self, train_ops, graph, clip_gradients, tensorboard_dir, tensorboard_verbose, checkpoint_path, max_checkpoints, keep_checkpoint_every_n_hours, random_seed, session)\u001b[0m\n\u001b[0;32m    129\u001b[0m             \u001b[1;32mif\u001b[0m \u001b[1;32mnot\u001b[0m \u001b[0mself\u001b[0m\u001b[1;33m.\u001b[0m\u001b[0mrestored\u001b[0m\u001b[1;33m:\u001b[0m\u001b[1;33m\u001b[0m\u001b[0m\n\u001b[0;32m    130\u001b[0m                 \u001b[0minit\u001b[0m \u001b[1;33m=\u001b[0m \u001b[0mtf\u001b[0m\u001b[1;33m.\u001b[0m\u001b[0minitialize_all_variables\u001b[0m\u001b[1;33m(\u001b[0m\u001b[1;33m)\u001b[0m\u001b[1;33m\u001b[0m\u001b[0m\n\u001b[1;32m--> 131\u001b[1;33m                 \u001b[0mself\u001b[0m\u001b[1;33m.\u001b[0m\u001b[0msession\u001b[0m\u001b[1;33m.\u001b[0m\u001b[0mrun\u001b[0m\u001b[1;33m(\u001b[0m\u001b[0minit\u001b[0m\u001b[1;33m)\u001b[0m\u001b[1;33m\u001b[0m\u001b[0m\n\u001b[0m\u001b[0;32m    132\u001b[0m \u001b[1;33m\u001b[0m\u001b[0m\n\u001b[0;32m    133\u001b[0m     def fit(self, feed_dicts, n_epoch=10, val_feed_dicts=None, show_metric=False,\n",
      "\u001b[1;32m/home/ryan/anaconda2/lib/python2.7/site-packages/tensorflow/python/client/session.pyc\u001b[0m in \u001b[0;36mrun\u001b[1;34m(self, fetches, feed_dict, options, run_metadata)\u001b[0m\n\u001b[0;32m    380\u001b[0m     \u001b[1;32mtry\u001b[0m\u001b[1;33m:\u001b[0m\u001b[1;33m\u001b[0m\u001b[0m\n\u001b[0;32m    381\u001b[0m       result = self._run(None, fetches, feed_dict, options_ptr,\n\u001b[1;32m--> 382\u001b[1;33m                          run_metadata_ptr)\n\u001b[0m\u001b[0;32m    383\u001b[0m       \u001b[1;32mif\u001b[0m \u001b[0mrun_metadata\u001b[0m\u001b[1;33m:\u001b[0m\u001b[1;33m\u001b[0m\u001b[0m\n\u001b[0;32m    384\u001b[0m         \u001b[0mproto_data\u001b[0m \u001b[1;33m=\u001b[0m \u001b[0mtf_session\u001b[0m\u001b[1;33m.\u001b[0m\u001b[0mTF_GetBuffer\u001b[0m\u001b[1;33m(\u001b[0m\u001b[0mrun_metadata_ptr\u001b[0m\u001b[1;33m)\u001b[0m\u001b[1;33m\u001b[0m\u001b[0m\n",
      "\u001b[1;32m/home/ryan/anaconda2/lib/python2.7/site-packages/tensorflow/python/client/session.pyc\u001b[0m in \u001b[0;36m_run\u001b[1;34m(self, handle, fetches, feed_dict, options, run_metadata)\u001b[0m\n\u001b[0;32m    653\u001b[0m     \u001b[0mmovers\u001b[0m \u001b[1;33m=\u001b[0m \u001b[0mself\u001b[0m\u001b[1;33m.\u001b[0m\u001b[0m_update_with_movers\u001b[0m\u001b[1;33m(\u001b[0m\u001b[0mfeed_dict_string\u001b[0m\u001b[1;33m,\u001b[0m \u001b[0mfeed_map\u001b[0m\u001b[1;33m)\u001b[0m\u001b[1;33m\u001b[0m\u001b[0m\n\u001b[0;32m    654\u001b[0m     results = self._do_run(handle, target_list, unique_fetches,\n\u001b[1;32m--> 655\u001b[1;33m                            feed_dict_string, options, run_metadata)\n\u001b[0m\u001b[0;32m    656\u001b[0m \u001b[1;33m\u001b[0m\u001b[0m\n\u001b[0;32m    657\u001b[0m     \u001b[1;31m# User may have fetched the same tensor multiple times, but we\u001b[0m\u001b[1;33m\u001b[0m\u001b[1;33m\u001b[0m\u001b[0m\n",
      "\u001b[1;32m/home/ryan/anaconda2/lib/python2.7/site-packages/tensorflow/python/client/session.pyc\u001b[0m in \u001b[0;36m_do_run\u001b[1;34m(self, handle, target_list, fetch_list, feed_dict, options, run_metadata)\u001b[0m\n\u001b[0;32m    721\u001b[0m     \u001b[1;32mif\u001b[0m \u001b[0mhandle\u001b[0m \u001b[1;32mis\u001b[0m \u001b[0mNone\u001b[0m\u001b[1;33m:\u001b[0m\u001b[1;33m\u001b[0m\u001b[0m\n\u001b[0;32m    722\u001b[0m       return self._do_call(_run_fn, self._session, feed_dict, fetch_list,\n\u001b[1;32m--> 723\u001b[1;33m                            target_list, options, run_metadata)\n\u001b[0m\u001b[0;32m    724\u001b[0m     \u001b[1;32melse\u001b[0m\u001b[1;33m:\u001b[0m\u001b[1;33m\u001b[0m\u001b[0m\n\u001b[0;32m    725\u001b[0m       return self._do_call(_prun_fn, self._session, handle, feed_dict,\n",
      "\u001b[1;32m/home/ryan/anaconda2/lib/python2.7/site-packages/tensorflow/python/client/session.pyc\u001b[0m in \u001b[0;36m_do_call\u001b[1;34m(self, fn, *args)\u001b[0m\n\u001b[0;32m    741\u001b[0m         \u001b[1;32mexcept\u001b[0m \u001b[0mKeyError\u001b[0m\u001b[1;33m:\u001b[0m\u001b[1;33m\u001b[0m\u001b[0m\n\u001b[0;32m    742\u001b[0m           \u001b[1;32mpass\u001b[0m\u001b[1;33m\u001b[0m\u001b[0m\n\u001b[1;32m--> 743\u001b[1;33m       \u001b[1;32mraise\u001b[0m \u001b[0mtype\u001b[0m\u001b[1;33m(\u001b[0m\u001b[0me\u001b[0m\u001b[1;33m)\u001b[0m\u001b[1;33m(\u001b[0m\u001b[0mnode_def\u001b[0m\u001b[1;33m,\u001b[0m \u001b[0mop\u001b[0m\u001b[1;33m,\u001b[0m \u001b[0mmessage\u001b[0m\u001b[1;33m)\u001b[0m\u001b[1;33m\u001b[0m\u001b[0m\n\u001b[0m\u001b[0;32m    744\u001b[0m \u001b[1;33m\u001b[0m\u001b[0m\n\u001b[0;32m    745\u001b[0m   \u001b[1;32mdef\u001b[0m \u001b[0m_extend_graph\u001b[0m\u001b[1;33m(\u001b[0m\u001b[0mself\u001b[0m\u001b[1;33m)\u001b[0m\u001b[1;33m:\u001b[0m\u001b[1;33m\u001b[0m\u001b[0m\n",
      "\u001b[1;31mInternalError\u001b[0m: Dst tensor is not initialized.\n\t [[Node: Momentum_2/zeros_7 = Const[dtype=DT_FLOAT, value=Tensor<type: float shape: [18432,3072] values: 0 0 0...>, _device=\"/job:localhost/replica:0/task:0/gpu:0\"]()]]\nCaused by op u'Momentum_2/zeros_7', defined at:\n  File \"/home/ryan/anaconda2/lib/python2.7/runpy.py\", line 162, in _run_module_as_main\n    \"__main__\", fname, loader, pkg_name)\n  File \"/home/ryan/anaconda2/lib/python2.7/runpy.py\", line 72, in _run_code\n    exec code in run_globals\n  File \"/home/ryan/anaconda2/lib/python2.7/site-packages/ipykernel/__main__.py\", line 3, in <module>\n    app.launch_new_instance()\n  File \"/home/ryan/anaconda2/lib/python2.7/site-packages/traitlets/config/application.py\", line 596, in launch_instance\n    app.start()\n  File \"/home/ryan/anaconda2/lib/python2.7/site-packages/ipykernel/kernelapp.py\", line 442, in start\n    ioloop.IOLoop.instance().start()\n  File \"/home/ryan/anaconda2/lib/python2.7/site-packages/zmq/eventloop/ioloop.py\", line 162, in start\n    super(ZMQIOLoop, self).start()\n  File \"/home/ryan/anaconda2/lib/python2.7/site-packages/tornado/ioloop.py\", line 883, in start\n    handler_func(fd_obj, events)\n  File \"/home/ryan/anaconda2/lib/python2.7/site-packages/tornado/stack_context.py\", line 275, in null_wrapper\n    return fn(*args, **kwargs)\n  File \"/home/ryan/anaconda2/lib/python2.7/site-packages/zmq/eventloop/zmqstream.py\", line 440, in _handle_events\n    self._handle_recv()\n  File \"/home/ryan/anaconda2/lib/python2.7/site-packages/zmq/eventloop/zmqstream.py\", line 472, in _handle_recv\n    self._run_callback(callback, msg)\n  File \"/home/ryan/anaconda2/lib/python2.7/site-packages/zmq/eventloop/zmqstream.py\", line 414, in _run_callback\n    callback(*args, **kwargs)\n  File \"/home/ryan/anaconda2/lib/python2.7/site-packages/tornado/stack_context.py\", line 275, in null_wrapper\n    return fn(*args, **kwargs)\n  File \"/home/ryan/anaconda2/lib/python2.7/site-packages/ipykernel/kernelbase.py\", line 276, in dispatcher\n    return self.dispatch_shell(stream, msg)\n  File \"/home/ryan/anaconda2/lib/python2.7/site-packages/ipykernel/kernelbase.py\", line 228, in dispatch_shell\n    handler(stream, idents, msg)\n  File \"/home/ryan/anaconda2/lib/python2.7/site-packages/ipykernel/kernelbase.py\", line 391, in execute_request\n    user_expressions, allow_stdin)\n  File \"/home/ryan/anaconda2/lib/python2.7/site-packages/ipykernel/ipkernel.py\", line 199, in do_execute\n    shell.run_cell(code, store_history=store_history, silent=silent)\n  File \"/home/ryan/anaconda2/lib/python2.7/site-packages/IPython/core/interactiveshell.py\", line 2723, in run_cell\n    interactivity=interactivity, compiler=compiler, result=result)\n  File \"/home/ryan/anaconda2/lib/python2.7/site-packages/IPython/core/interactiveshell.py\", line 2825, in run_ast_nodes\n    if self.run_code(code, result):\n  File \"/home/ryan/anaconda2/lib/python2.7/site-packages/IPython/core/interactiveshell.py\", line 2885, in run_code\n    exec(code_obj, self.user_global_ns, self.user_ns)\n  File \"<ipython-input-4-21cd40d76733>\", line 2, in <module>\n    network.build_network()\n  File \"emotion_recognition.py\", line 42, in build_network\n    tensorboard_verbose = 2\n  File \"/home/ryan/anaconda2/lib/python2.7/site-packages/tflearn/models/dnn.py\", line 57, in __init__\n    session=session)\n  File \"/home/ryan/anaconda2/lib/python2.7/site-packages/tflearn/helpers/trainer.py\", line 111, in __init__\n    clip_gradients)\n  File \"/home/ryan/anaconda2/lib/python2.7/site-packages/tflearn/helpers/trainer.py\", line 574, in initialize_training_ops\n    name=\"apply_grad_op_\" + str(i))\n  File \"/home/ryan/anaconda2/lib/python2.7/site-packages/tensorflow/python/training/optimizer.py\", line 300, in apply_gradients\n    self._create_slots(var_list)\n  File \"/home/ryan/anaconda2/lib/python2.7/site-packages/tensorflow/python/training/momentum.py\", line 51, in _create_slots\n    self._zeros_slot(v, \"momentum\", self._name)\n  File \"/home/ryan/anaconda2/lib/python2.7/site-packages/tensorflow/python/training/optimizer.py\", line 494, in _zeros_slot\n    named_slots[var] = slot_creator.create_zeros_slot(var, op_name)\n  File \"/home/ryan/anaconda2/lib/python2.7/site-packages/tensorflow/python/training/slot_creator.py\", line 106, in create_zeros_slot\n    val = array_ops.zeros(primary.get_shape().as_list(), dtype=dtype)\n  File \"/home/ryan/anaconda2/lib/python2.7/site-packages/tensorflow/python/ops/array_ops.py\", line 1131, in zeros\n    output = constant(0, shape=shape, dtype=dtype, name=name)\n  File \"/home/ryan/anaconda2/lib/python2.7/site-packages/tensorflow/python/framework/constant_op.py\", line 167, in constant\n    attrs={\"value\": tensor_value, \"dtype\": dtype_value}, name=name).outputs[0]\n  File \"/home/ryan/anaconda2/lib/python2.7/site-packages/tensorflow/python/framework/ops.py\", line 2310, in create_op\n    original_op=self._default_original_op, op_def=op_def)\n  File \"/home/ryan/anaconda2/lib/python2.7/site-packages/tensorflow/python/framework/ops.py\", line 1232, in __init__\n    self._traceback = _extract_stack()\n"
     ]
    }
   ],
   "source": [
    "network = EmotionRecognition()\n",
    "network.build_network()\n",
    "\n",
    "images = np.load('./data_kike.npy')\n",
    "labels = np.load('./labels_kike.npy')\n",
    "\n",
    "#images = images.reshape([-1, SIZE_FACE, SIZE_FACE, 1])\n",
    "#labels = labels.reshape([-1, len(EMOTIONS)])"
   ]
  },
  {
   "cell_type": "code",
   "execution_count": 19,
   "metadata": {
    "collapsed": false
   },
   "outputs": [
    {
     "data": {
      "text/plain": [
       "13975"
      ]
     },
     "execution_count": 19,
     "metadata": {},
     "output_type": "execute_result"
    }
   ],
   "source": [
    "images.shape[0]"
   ]
  },
  {
   "cell_type": "code",
   "execution_count": 25,
   "metadata": {
    "collapsed": false
   },
   "outputs": [],
   "source": [
    "data = np.zeros((len(EMOTIONS),len(EMOTIONS)))\n",
    "for i in xrange(images.shape[0]):\n",
    "    result = network.predict(images[i])\n",
    "    data[np.argmax(labels[i]), result[0].index(max(result[0]))] += 1"
   ]
  },
  {
   "cell_type": "code",
   "execution_count": 31,
   "metadata": {
    "collapsed": false,
    "scrolled": true
   },
   "outputs": [
    {
     "name": "stdout",
     "output_type": "stream",
     "text": [
      "[[ 0.          0.          0.          0.06584821  0.          0.93415179\n",
      "   0.        ]\n",
      " [ 0.          0.          0.          0.04290429  0.          0.95709571\n",
      "   0.        ]\n",
      " [ 0.          0.          0.          0.04761905  0.          0.95238095\n",
      "   0.        ]\n",
      " [ 0.          0.          0.          0.03048327  0.          0.96951673\n",
      "   0.        ]\n",
      " [ 0.          0.          0.          0.07432854  0.          0.92567146\n",
      "   0.        ]\n",
      " [ 0.          0.          0.          0.03128689  0.          0.96871311\n",
      "   0.        ]\n",
      " [ 0.          0.          0.          0.0678392   0.          0.9321608\n",
      "   0.        ]]\n"
     ]
    }
   ],
   "source": [
    "for i in range(len(data)):\n",
    "    total = np.sum(data[i])\n",
    "    for x in range(len(data[0])):\n",
    "        data[i][x] = data[i][x] / total\n",
    "\n",
    "print(data)"
   ]
  },
  {
   "cell_type": "code",
   "execution_count": 34,
   "metadata": {
    "collapsed": false
   },
   "outputs": [
    {
     "name": "stdout",
     "output_type": "stream",
     "text": [
      "[+] Generating graph\n"
     ]
    }
   ],
   "source": [
    "print '[+] Generating graph'\n",
    "c = plt.pcolor(data, edgecolors = 'k', linewidths = 4, cmap = 'Blues', vmin = 0.0, vmax = 1.0)\n",
    "def show_values(pc, fmt=\"%.2f\", **kw):\n",
    "    from itertools import izip\n",
    "    pc.update_scalarmappable()\n",
    "    ax = pc.get_axes()\n",
    "    ax.set_yticks(np.arange(len(EMOTIONS)) + 0.5, minor = False)\n",
    "    ax.set_xticks(np.arange(len(EMOTIONS)) + 0.5, minor = False)\n",
    "    ax.set_xticklabels(EMOTIONS, minor = False)\n",
    "    ax.set_yticklabels(EMOTIONS, minor = False)\n",
    "    for p, color, value in izip(pc.get_paths(), pc.get_facecolors(), pc.get_array()):\n",
    "        x, y = p.vertices[:-2, :].mean(0)\n",
    "        if np.all(color[:3] > 0.5):\n",
    "            color = (0.0, 0.0, 0.0)\n",
    "        else:\n",
    "            color = (1.0, 1.0, 1.0)\n",
    "        ax.text(x, y, fmt % value, ha = \"center\", va = \"center\", color = color, **kw)"
   ]
  },
  {
   "cell_type": "code",
   "execution_count": 35,
   "metadata": {
    "collapsed": false
   },
   "outputs": [
    {
     "name": "stderr",
     "output_type": "stream",
     "text": [
      "/home/ryan/anaconda2/lib/python2.7/site-packages/matplotlib/artist.py:221: MatplotlibDeprecationWarning: This has been deprecated in mpl 1.5, please use the\n",
      "axes property.  A removal date has not been set.\n",
      "  warnings.warn(_get_axes_msg, mplDeprecation, stacklevel=1)\n"
     ]
    }
   ],
   "source": [
    "show_values(c)\n",
    "plt.xlabel('Predicted Emotion')\n",
    "plt.ylabel('Real Emotion')\n",
    "plt.show()"
   ]
  }
 ],
 "metadata": {
  "kernelspec": {
   "display_name": "Python [Root]",
   "language": "python",
   "name": "Python [Root]"
  },
  "language_info": {
   "codemirror_mode": {
    "name": "ipython",
    "version": 2
   },
   "file_extension": ".py",
   "mimetype": "text/x-python",
   "name": "python",
   "nbconvert_exporter": "python",
   "pygments_lexer": "ipython2",
   "version": "2.7.12"
  }
 },
 "nbformat": 4,
 "nbformat_minor": 0
}
