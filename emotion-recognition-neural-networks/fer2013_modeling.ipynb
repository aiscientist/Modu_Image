{
 "cells": [
  {
   "cell_type": "code",
   "execution_count": 1,
   "metadata": {
    "collapsed": false
   },
   "outputs": [],
   "source": [
    "from __future__ import division, absolute_import\n",
    "import re\n",
    "import numpy as np\n",
    "from dataset_loader import DatasetLoader\n",
    "import tflearn\n",
    "from tflearn.layers.core import input_data, dropout, fully_connected, flatten\n",
    "from tflearn.layers.conv import conv_2d, max_pool_2d, avg_pool_2d\n",
    "from tflearn.layers.merge_ops import merge\n",
    "from tflearn.layers.normalization import local_response_normalization\n",
    "from tflearn.layers.estimator import regression\n",
    "from constants import *\n",
    "from os.path import isfile, join\n",
    "import random\n",
    "import sys"
   ]
  },
  {
   "cell_type": "code",
   "execution_count": 21,
   "metadata": {
    "collapsed": false
   },
   "outputs": [
    {
     "name": "stdout",
     "output_type": "stream",
     "text": [
      "[+] Building CNN\n"
     ]
    }
   ],
   "source": [
    "network = EmotionRecognition()\n",
    "network.build_network()\n",
    "\n",
    "images = np.load('./data_kike.npy')\n",
    "labels = np.load('./labels_kike.npy')\n",
    "\n",
    "images = images.reshape([-1, SIZE_FACE, SIZE_FACE, 1])\n",
    "labels = labels.reshape([-1, len(EMOTIONS)])"
   ]
  },
  {
   "cell_type": "code",
   "execution_count": null,
   "metadata": {
    "collapsed": false
   },
   "outputs": [
    {
     "name": "stdout",
     "output_type": "stream",
     "text": [
      "Downloading Oxford 17 category Flower Dataset, Please wait...\n",
      "('Succesfully downloaded', '17flowers.tgz', 60270631, 'bytes.')\n",
      "File Extracted\n",
      "Starting to parse images...\n",
      "Parsing Done!\n"
     ]
    }
   ],
   "source": [
    "from __future__ import division, print_function, absolute_import\n",
    "\n",
    "import tflearn\n",
    "from tflearn.layers.core import input_data, dropout, fully_connected\n",
    "from tflearn.layers.conv import conv_2d, max_pool_2d\n",
    "from tflearn.layers.normalization import local_response_normalization\n",
    "from tflearn.layers.estimator import regression\n",
    "\n",
    "import tflearn.datasets.oxflower17 as oxflower17\n",
    "X, Y = oxflower17.load_data(one_hot=True, resize_pics=(227, 227))\n",
    "\n",
    "# Building 'AlexNet'\n",
    "network = input_data(shape=[None, 227, 227, 3])\n",
    "network = conv_2d(network, 96, 11, strides=4, activation='relu')\n",
    "network = max_pool_2d(network, 3, strides=2)\n",
    "network = local_response_normalization(network)\n",
    "network = conv_2d(network, 256, 5, activation='relu')\n",
    "network = max_pool_2d(network, 3, strides=2)\n",
    "network = local_response_normalization(network)\n",
    "network = conv_2d(network, 384, 3, activation='relu')\n",
    "network = conv_2d(network, 384, 3, activation='relu')\n",
    "network = conv_2d(network, 256, 3, activation='relu')\n",
    "network = max_pool_2d(network, 3, strides=2)\n",
    "network = local_response_normalization(network)\n",
    "network = fully_connected(network, 4096, activation='tanh')\n",
    "network = dropout(network, 0.5)\n",
    "network = fully_connected(network, 4096, activation='tanh')\n",
    "network = dropout(network, 0.5)\n",
    "network = fully_connected(network, 17, activation='softmax')\n",
    "network = regression(network, optimizer='momentum',\n",
    "                     loss='categorical_crossentropy',\n",
    "                     learning_rate=0.001)\n",
    "\n",
    "# Training\n",
    "model = tflearn.DNN(network, checkpoint_path='model_alexnet',\n",
    "                    max_checkpoints=1, tensorboard_verbose=2)\n",
    "model.fit(X, Y, n_epoch=1000, validation_set=0.1, shuffle=True,\n",
    "          show_metric=True, batch_size=64, snapshot_step=200,\n",
    "          snapshot_epoch=False, run_id='alexnet_oxflowers17')\n"
   ]
  },
  {
   "cell_type": "code",
   "execution_count": 2,
   "metadata": {
    "collapsed": false
   },
   "outputs": [],
   "source": [
    "class EmotionRecognition:\n",
    "\n",
    "  def __init__(self):\n",
    "    self.dataset = DatasetLoader()\n",
    "\n",
    "  def build_network(self):\n",
    "    # Smaller 'AlexNet'\n",
    "    # https://github.com/tflearn/tflearn/blob/master/examples/images/alexnet.py\n",
    "    print('[+] Building CNN')\n",
    "    self.network = input_data(shape = [None, SIZE_FACE, SIZE_FACE, 1])\n",
    "    self.network = conv_2d(self.network, 64, 5, activation = 'relu')\n",
    "    #self.network = local_response_normalization(self.network)\n",
    "    self.network = max_pool_2d(self.network, 3, strides = 2)\n",
    "    self.network = conv_2d(self.network, 64, 5, activation = 'relu')\n",
    "    self.network = max_pool_2d(self.network, 3, strides = 2)\n",
    "    self.network = conv_2d(self.network, 128, 4, activation = 'relu')\n",
    "    self.network = dropout(self.network, 0.3)\n",
    "    self.network = fully_connected(self.network, 3072, activation = 'relu')\n",
    "    self.network = fully_connected(self.network, len(EMOTIONS), activation = 'softmax')\n",
    "    self.network = regression(self.network,\n",
    "      optimizer = 'momentum',\n",
    "      loss = 'categorical_crossentropy')\n",
    "    self.model = tflearn.DNN(\n",
    "      self.network,\n",
    "      checkpoint_path = SAVE_DIRECTORY + '/emotion_recognition',\n",
    "      max_checkpoints = 1,\n",
    "      tensorboard_verbose = 2\n",
    "    )\n",
    "    self.load_model()\n",
    "\n",
    "  def load_saved_dataset(self):\n",
    "    self.dataset.load_from_save()\n",
    "    print('[+] Dataset found and loaded')\n",
    "\n",
    "  def start_training(self):\n",
    "    self.load_saved_dataset()\n",
    "    self.build_network()\n",
    "    if self.dataset is None:\n",
    "      self.load_saved_dataset()\n",
    "    # Training\n",
    "    print('[+] Training network')\n",
    "    self.model.fit(\n",
    "      self.dataset.images, self.dataset.labels,\n",
    "      validation_set = (self.dataset.images_test, self.dataset._labels_test),\n",
    "      n_epoch = 100,\n",
    "      batch_size = 50,\n",
    "      shuffle = True,\n",
    "      show_metric = True,\n",
    "      snapshot_step = 200,\n",
    "      snapshot_epoch = True,\n",
    "      run_id = 'emotion_recognition'\n",
    "    )\n",
    "\n",
    "  def predict(self, image):\n",
    "    if image is None:\n",
    "      return None\n",
    "    image = image.reshape([-1, SIZE_FACE, SIZE_FACE, 1])\n",
    "    return self.model.predict(image)\n",
    "\n",
    "  def save_model(self):\n",
    "    self.model.save(join(SAVE_DIRECTORY, SAVE_MODEL_FILENAME))\n",
    "    print('[+] Model trained and saved at ' + SAVE_MODEL_FILENAME)\n",
    "\n",
    "  def load_model(self):\n",
    "    if isfile(join(SAVE_DIRECTORY, SAVE_MODEL_FILENAME)):\n",
    "      self.model.load(join(SAVE_DIRECTORY, SAVE_MODEL_FILENAME))\n",
    "      print('[+] Model loaded from ' + SAVE_MODEL_FILENAME)\n"
   ]
  },
  {
   "cell_type": "code",
   "execution_count": 3,
   "metadata": {
    "collapsed": false
   },
   "outputs": [],
   "source": [
    "def show_usage():\n",
    "  # I din't want to have more dependecies\n",
    "  print('[!] Usage: python emotion_recognition.py')\n",
    "  print('\\t emotion_recognition.py train \\t Trains and saves model with saved dataset')\n",
    "  print('\\t emotion_recognition.py poc \\t Launch the proof of concept')"
   ]
  },
  {
   "cell_type": "code",
   "execution_count": 4,
   "metadata": {
    "collapsed": false
   },
   "outputs": [
    {
     "name": "stdout",
     "output_type": "stream",
     "text": [
      "[!] Usage: python emotion_recognition.py\n",
      "\t emotion_recognition.py train \t Trains and saves model with saved dataset\n",
      "\t emotion_recognition.py poc \t Launch the proof of concept\n"
     ]
    }
   ],
   "source": [
    "if __name__ == \"__main__\":\n",
    "  if len(sys.argv) <= 1:\n",
    "    show_usage()\n",
    "    exit()\n",
    "\n",
    "  network = EmotionRecognition()\n",
    "  if sys.argv[1] == 'train':\n",
    "    network.start_training()\n",
    "    network.save_model()\n",
    "  elif sys.argv[1] == 'poc':\n",
    "    import poc\n",
    "  else:\n",
    "    show_usage()"
   ]
  }
 ],
 "metadata": {
  "kernelspec": {
   "display_name": "Python 2",
   "language": "python",
   "name": "python2"
  },
  "language_info": {
   "codemirror_mode": {
    "name": "ipython",
    "version": 2
   },
   "file_extension": ".py",
   "mimetype": "text/x-python",
   "name": "python",
   "nbconvert_exporter": "python",
   "pygments_lexer": "ipython2",
   "version": "2.7.11"
  }
 },
 "nbformat": 4,
 "nbformat_minor": 0
}
